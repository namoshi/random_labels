{
  "cells": [
    {
      "cell_type": "markdown",
      "metadata": {
        "colab_type": "text",
        "id": "view-in-github"
      },
      "source": [
        "<a href=\"https://colab.research.google.com/github/namoshi/random_labels/blob/main/CNN_cifar10-randomlabels.ipynb\" target=\"_parent\"><img src=\"https://colab.research.google.com/assets/colab-badge.svg\" alt=\"Open In Colab\"/></a>"
      ]
    },
    {
      "cell_type": "markdown",
      "metadata": {
        "id": "lAnUu7lqG6T5"
      },
      "source": [
        "## Convolutional Neural Network (CNN)\n",
        "\n",
        "Image Classification (CIAR-10) by CNN"
      ]
    },
    {
      "cell_type": "code",
      "execution_count": 9,
      "metadata": {
        "id": "d1k6RAqdG6T7"
      },
      "outputs": [],
      "source": [
        "import torch\n",
        "import torch.nn as nn\n",
        "import torch.optim as optim\n",
        "import torchvision.datasets as dsets\n",
        "import torchvision.transforms as transforms\n",
        "import torch.nn.functional as F"
      ]
    },
    {
      "cell_type": "code",
      "execution_count": 10,
      "metadata": {
        "colab": {
          "base_uri": "https://localhost:8080/",
          "height": 153,
          "referenced_widgets": [
            "95e996b001924346873ef863f585d7ce",
            "03290858f7ee40eb817ed873d7a08a08",
            "f888cb99221a427199bf44bb31b1a340",
            "94ae3caae0594173a24f435281de8701",
            "ab084b30f6fc44bf98326b0737090554",
            "5a730bcbde2e4d94918635a03087a58c",
            "d36eba36d8004d6ba5aa0e46e6f12735",
            "20fe60ea1ca04eb48c398731cecc3110",
            "f3004539ff48435e8408494feccecb5c",
            "01b4be52750d47c5afefb2e05fda15ab",
            "caadd93843184c32bc4e03789280119d"
          ]
        },
        "id": "AE_KqyBzG6UA",
        "outputId": "ddff410f-5c4f-490c-dc69-1ccdf13b53da"
      },
      "outputs": [
        {
          "name": "stdout",
          "output_type": "stream",
          "text": [
            "Files already downloaded and verified\n",
            "Files already downloaded and verified\n",
            "train_dataset =  40000\n",
            "valid_dataset =  10000\n",
            "test_dataset =  10000\n"
          ]
        }
      ],
      "source": [
        "# load CIFAR-10 data\n",
        "train_dataset = dsets.CIFAR10('./data',\n",
        "                         train=True,\n",
        "                         download=True,\n",
        "                         transform=transforms.Compose([\n",
        "                             transforms.ToTensor(),\n",
        "                             transforms.Normalize(\n",
        "                                [0.5, 0.5, 0.5],  # RGB 平均\n",
        "                                [0.5, 0.5, 0.5]   # RGB 標準偏差\n",
        "                                )\n",
        "                         ]))\n",
        "\n",
        "test_dataset = dsets.CIFAR10('./data',\n",
        "                         train=False,\n",
        "                         download=True,\n",
        "                         transform=transforms.Compose([\n",
        "                             transforms.ToTensor(),\n",
        "                             transforms.Normalize(\n",
        "                                 [0.5, 0.5, 0.5],  # RGB 平均\n",
        "                                 [0.5, 0.5, 0.5]  # RGB 標準偏差\n",
        "                             )\n",
        "                         ]))\n",
        "\n",
        "#print(len(train_Dataset))\n",
        "\n",
        "train_dataset, valid_dataset = torch.utils.data.random_split(  # データセットの分割\n",
        "      train_dataset,   # 分割するデータセット\n",
        "      [40000, 10000])  # 分割数\n",
        " \n",
        "print('train_dataset = ', len(train_dataset))\n",
        "print('valid_dataset = ', len(valid_dataset))  \n",
        "print('test_dataset = ', len(test_dataset))\n",
        "\n"
      ]
    },
    {
      "cell_type": "code",
      "execution_count": 11,
      "metadata": {
        "id": "aav3n_2KG6UG"
      },
      "outputs": [],
      "source": [
        "# Set up DataLoader\n",
        "batch=128\n",
        "\n",
        "train_loader = torch.utils.data.DataLoader(\n",
        "        dataset=train_dataset,\n",
        "        batch_size=batch,\n",
        "        shuffle=True\n",
        "    )\n",
        "\n",
        "valid_loader = torch.utils.data.DataLoader(\n",
        "        dataset=valid_dataset,\n",
        "        batch_size=batch,\n",
        "        shuffle=True\n",
        "    )\n",
        "\n",
        "test_loader = torch.utils.data.DataLoader(\n",
        "        dataset=test_dataset,\n",
        "        batch_size=batch,\n",
        "        shuffle=True\n",
        "    )\n"
      ]
    },
    {
      "cell_type": "code",
      "execution_count": 12,
      "metadata": {
        "colab": {
          "base_uri": "https://localhost:8080/"
        },
        "id": "SlhzS6FfG6UK",
        "outputId": "9f346b65-d1a9-4c57-e5c3-fb075b20cbea"
      },
      "outputs": [
        {
          "name": "stdout",
          "output_type": "stream",
          "text": [
            "cuda\n",
            "Network architecture for CNN\n",
            " Network(\n",
            "  (conv1): Conv2d(3, 32, kernel_size=(3, 3), stride=(1, 1), padding=(1, 1))\n",
            "  (pool1): MaxPool2d(kernel_size=2, stride=2, padding=0, dilation=1, ceil_mode=False)\n",
            "  (dropout1): Dropout(p=0.2, inplace=False)\n",
            "  (conv2): Conv2d(32, 32, kernel_size=(3, 3), stride=(1, 1), padding=(1, 1))\n",
            "  (pool2): MaxPool2d(kernel_size=2, stride=2, padding=0, dilation=1, ceil_mode=False)\n",
            "  (dropout2): Dropout(p=0.2, inplace=False)\n",
            "  (fc1): Linear(in_features=2048, out_features=128, bias=True)\n",
            "  (dropout3): Dropout(p=0.2, inplace=False)\n",
            "  (fc2): Linear(in_features=128, out_features=10, bias=True)\n",
            ")\n"
          ]
        }
      ],
      "source": [
        "class Network(nn.Module):\n",
        "    def __init__(self):\n",
        "        super(Network, self).__init__()\n",
        "        self.conv1 = nn.Conv2d(3,32,3, padding=1)\n",
        "        self.pool1 = nn.MaxPool2d(2,2)\n",
        "        self.dropout1 = nn.Dropout(0.2)\n",
        "        self.conv2 = nn.Conv2d(32,32,3, padding=1)\n",
        "        self.pool2 = nn.MaxPool2d(2,2)\n",
        "        self.dropout2 = nn.Dropout(0.2)\n",
        "        self.fc1 = nn.Linear(32*8*8, 128)\n",
        "        self.dropout3 = nn.Dropout(0.2)\n",
        "        self.fc2 = nn.Linear(128, 10)\n",
        "\n",
        "\n",
        "    def forward(self, x):\n",
        "        x = self.pool1(F.relu(self.conv1(x)))\n",
        "        x = self.dropout1(x)\n",
        "        x = self.pool2(F.relu(self.conv2(x)))\n",
        "        x = self.dropout2(x)\n",
        "        x = x.view(-1, 32 * 8 * 8)\n",
        "        x = F.relu(self.fc1(x))\n",
        "        x = self.dropout3(x)\n",
        "        x = self.fc2(x)\n",
        "        return x\n",
        "\n",
        "net = Network()\n",
        "device = 'cuda' if torch.cuda.is_available() else 'cpu'\n",
        "print(device)\n",
        "\n",
        "if torch.cuda.is_available():\n",
        "  net.cuda()\n",
        "\n",
        "print('Network architecture for CNN\\n', net)"
      ]
    },
    {
      "cell_type": "code",
      "execution_count": 13,
      "metadata": {
        "id": "OlCfd_HXG6UQ"
      },
      "outputs": [],
      "source": [
        "# optimizing\n",
        "criterion = nn.CrossEntropyLoss()\n",
        "optimizer = optim.SGD(net.parameters(), lr=0.01, momentum=0.9, weight_decay=0.001)\n",
        "#optimizer = optim.AdamW(net.parameters(), lr=0.01, weight_decay=0.001)\n"
      ]
    },
    {
      "cell_type": "code",
      "execution_count": 14,
      "metadata": {
        "id": "8XOoWNm9G6UU"
      },
      "outputs": [],
      "source": [
        "# Define Class names\n",
        "classes = ('plane', 'car', 'bird', 'cat', 'deer',\n",
        "               'dog', 'frog', 'horse', 'ship', 'truck')\n",
        " "
      ]
    },
    {
      "cell_type": "code",
      "execution_count": 15,
      "metadata": {
        "id": "9hShScW313V1"
      },
      "outputs": [],
      "source": [
        "import numpy as np\n",
        "\n",
        "noise_p = 0.1\n",
        "\n",
        "def random_labels(labels, noise_p):\n",
        "    s = np.random.default_rng().uniform(0,1,len(labels))\n",
        "    indx = (s >= (1.0 - noise_p))\n",
        "#    print(indx)\n",
        "\n",
        "#    print(labels)\n",
        "#    print(labels[indx])\n",
        "    new_labels = labels.detach().numpy().copy()\n",
        "#    print(new_labels[indx])\n",
        "#    print(len(new_labels[indx]))\n",
        "    new_labels[indx] = np.random.randint(0,9,len(new_labels[indx]))\n",
        "    new_labels = torch.from_numpy(new_labels).clone()\n",
        "#    print(new_labels)\n",
        "#    print(new_labels == labels)\n",
        "\n",
        "    return new_labels"
      ]
    },
    {
      "cell_type": "code",
      "execution_count": 16,
      "metadata": {
        "colab": {
          "base_uri": "https://localhost:8080/"
        },
        "id": "QLVSY_raG6UZ",
        "outputId": "a35047a3-24d0-458d-fd74-f4c73505c9ea"
      },
      "outputs": [
        {
          "name": "stdout",
          "output_type": "stream",
          "text": [
            "training start ...\n",
            "Epoch [1/50] train Loss: 0.0200, train acc: 0.1001 | val_loss: 0.0202, val_acc: 0.0998\n",
            "Epoch [2/50] train Loss: 0.0205, train acc: 0.0898 | val_loss: 0.0207, val_acc: 0.0899\n",
            "Epoch [3/50] train Loss: 0.0203, train acc: 0.1005 | val_loss: 0.0206, val_acc: 0.0981\n",
            "Epoch [4/50] train Loss: 0.0204, train acc: 0.1004 | val_loss: 0.0206, val_acc: 0.0981\n",
            "Epoch [5/50] train Loss: 0.0205, train acc: 0.0994 | val_loss: 0.0208, val_acc: 0.1025\n",
            "Epoch [6/50] train Loss: 0.0205, train acc: 0.1003 | val_loss: 0.0208, val_acc: 0.0988\n",
            "Epoch [7/50] train Loss: 0.0205, train acc: 0.1002 | val_loss: 0.0207, val_acc: 0.0996\n",
            "Epoch [8/50] train Loss: 0.0202, train acc: 0.1003 | val_loss: 0.0204, val_acc: 0.0988\n",
            "Epoch [9/50] train Loss: 0.0205, train acc: 0.0952 | val_loss: 0.0207, val_acc: 0.0989\n",
            "Epoch [10/50] train Loss: 0.0208, train acc: 0.0994 | val_loss: 0.0211, val_acc: 0.1019\n",
            "Epoch [11/50] train Loss: 0.0209, train acc: 0.1002 | val_loss: 0.0212, val_acc: 0.0989\n",
            "Epoch [12/50] train Loss: 0.0208, train acc: 0.0995 | val_loss: 0.0210, val_acc: 0.1019\n",
            "Epoch [13/50] train Loss: 0.0210, train acc: 0.1001 | val_loss: 0.0212, val_acc: 0.0998\n",
            "Epoch [14/50] train Loss: 0.0210, train acc: 0.0881 | val_loss: 0.0212, val_acc: 0.0923\n",
            "Epoch [15/50] train Loss: 0.0210, train acc: 0.1001 | val_loss: 0.0213, val_acc: 0.0998\n",
            "Epoch [16/50] train Loss: 0.0210, train acc: 0.1005 | val_loss: 0.0212, val_acc: 0.0981\n",
            "Epoch [17/50] train Loss: 0.0212, train acc: 0.1048 | val_loss: 0.0214, val_acc: 0.1061\n",
            "Epoch [18/50] train Loss: 0.0211, train acc: 0.1005 | val_loss: 0.0213, val_acc: 0.0981\n",
            "Epoch [19/50] train Loss: 0.0210, train acc: 0.1001 | val_loss: 0.0213, val_acc: 0.0997\n",
            "Epoch [20/50] train Loss: 0.0210, train acc: 0.1003 | val_loss: 0.0212, val_acc: 0.0988\n",
            "Epoch [21/50] train Loss: 0.0213, train acc: 0.1001 | val_loss: 0.0216, val_acc: 0.0995\n",
            "Epoch [22/50] train Loss: 0.0209, train acc: 0.1002 | val_loss: 0.0212, val_acc: 0.0992\n",
            "Epoch [23/50] train Loss: 0.0212, train acc: 0.0995 | val_loss: 0.0214, val_acc: 0.1019\n",
            "Epoch [24/50] train Loss: 0.0211, train acc: 0.1005 | val_loss: 0.0214, val_acc: 0.0981\n",
            "Epoch [25/50] train Loss: 0.0211, train acc: 0.1005 | val_loss: 0.0214, val_acc: 0.0981\n",
            "Epoch [26/50] train Loss: 0.0212, train acc: 0.0993 | val_loss: 0.0214, val_acc: 0.1023\n",
            "Epoch [27/50] train Loss: 0.0211, train acc: 0.1002 | val_loss: 0.0214, val_acc: 0.0992\n",
            "Epoch [28/50] train Loss: 0.0213, train acc: 0.1001 | val_loss: 0.0215, val_acc: 0.0995\n",
            "Epoch [29/50] train Loss: 0.0213, train acc: 0.1003 | val_loss: 0.0215, val_acc: 0.0990\n",
            "Epoch [30/50] train Loss: 0.0212, train acc: 0.1001 | val_loss: 0.0214, val_acc: 0.0995\n",
            "Epoch [31/50] train Loss: 0.0212, train acc: 0.1001 | val_loss: 0.0215, val_acc: 0.0995\n",
            "Epoch [32/50] train Loss: 0.0214, train acc: 0.0994 | val_loss: 0.0217, val_acc: 0.1025\n",
            "Epoch [33/50] train Loss: 0.0210, train acc: 0.0994 | val_loss: 0.0212, val_acc: 0.1025\n",
            "Epoch [34/50] train Loss: 0.0212, train acc: 0.0994 | val_loss: 0.0214, val_acc: 0.1025\n",
            "Epoch [35/50] train Loss: 0.0210, train acc: 0.1003 | val_loss: 0.0213, val_acc: 0.0990\n",
            "Epoch [36/50] train Loss: 0.0212, train acc: 0.1003 | val_loss: 0.0215, val_acc: 0.0988\n",
            "Epoch [37/50] train Loss: 0.0211, train acc: 0.0994 | val_loss: 0.0215, val_acc: 0.1025\n",
            "Epoch [38/50] train Loss: 0.0212, train acc: 0.0994 | val_loss: 0.0215, val_acc: 0.1025\n",
            "Epoch [39/50] train Loss: 0.0212, train acc: 0.1003 | val_loss: 0.0216, val_acc: 0.0988\n",
            "Epoch [40/50] train Loss: 0.0212, train acc: 0.1003 | val_loss: 0.0215, val_acc: 0.0988\n",
            "Epoch [41/50] train Loss: 0.0213, train acc: 0.0994 | val_loss: 0.0216, val_acc: 0.1025\n",
            "Epoch [42/50] train Loss: 0.0211, train acc: 0.1001 | val_loss: 0.0214, val_acc: 0.0995\n",
            "Epoch [43/50] train Loss: 0.0213, train acc: 0.0994 | val_loss: 0.0215, val_acc: 0.1025\n",
            "Epoch [44/50] train Loss: 0.0213, train acc: 0.1001 | val_loss: 0.0216, val_acc: 0.0997\n",
            "Epoch [45/50] train Loss: 0.0212, train acc: 0.1001 | val_loss: 0.0215, val_acc: 0.0997\n",
            "Epoch [46/50] train Loss: 0.0213, train acc: 0.1003 | val_loss: 0.0216, val_acc: 0.0990\n",
            "Epoch [47/50] train Loss: 0.0212, train acc: 0.1001 | val_loss: 0.0215, val_acc: 0.0997\n",
            "Epoch [48/50] train Loss: 0.0211, train acc: 0.1005 | val_loss: 0.0214, val_acc: 0.0981\n",
            "Epoch [49/50] train Loss: 0.0212, train acc: 0.1002 | val_loss: 0.0215, val_acc: 0.0992\n",
            "Epoch [50/50] train Loss: 0.0212, train acc: 0.1005 | val_loss: 0.0215, val_acc: 0.0981\n"
          ]
        }
      ],
      "source": [
        "###  training\n",
        "print ('training start ...')\n",
        "num_epochs = 50   \n",
        "\n",
        "# initialize list for plot graph after training\n",
        "train_loss_list, train_acc_list, val_loss_list, val_acc_list = [], [], [], []\n",
        "\n",
        "for epoch in range(num_epochs):\n",
        "    # initialize each epoch\n",
        "    train_loss, train_acc, val_loss, val_acc = 0, 0, 0, 0\n",
        "    \n",
        "    # ======== train_mode (Backprop) ======\n",
        "    net.train()\n",
        "    for i, (images, labels) in enumerate(train_loader):  # get mini batch samples\n",
        "        #viewで28×28×１画像を１次元に変換し、deviceへ転送\n",
        "#        images, labels = images.view(-1, 28*28*1).to(device), labels.to(device)\n",
        "        randlabels = random_labels(labels, 1.0)\n",
        "        images, randlabels = images.to(device), randlabels.to(device)\n",
        "        optimizer.zero_grad()  # Reset the gradients\n",
        "        outputs = net(images)  # forward computation\n",
        "        loss = criterion(outputs, randlabels)  # loss\n",
        "        loss.backward()  # backward computation        \n",
        "        optimizer.step()  # optimization\n",
        "    \n",
        "    # ======== eval_mode (training samples) ======\n",
        "    net.eval()\n",
        "    with torch.no_grad():  # no computation of gradients\n",
        "      for images, labels in train_loader:        \n",
        "#          images, labels = images.view(-1, 28*28*1).to(device), labels.to(device)\n",
        "          images, labels = images.to(device), labels.to(device)\n",
        "          outputs = net(images)\n",
        "          loss = criterion(outputs, labels)\n",
        "          train_loss += loss.item()\n",
        "          acc = (outputs.max(1)[1] == labels).sum()\n",
        "          train_acc += acc.item()\n",
        "    avg_train_loss = train_loss / len(train_loader.dataset)\n",
        "    avg_train_acc = train_acc / len(train_loader.dataset)\n",
        "\n",
        "    # ======== eval_mode (validation samples) ======\n",
        "    net.eval()\n",
        "    with torch.no_grad():  # no comptutation of gradients\n",
        "      for images, labels in valid_loader:        \n",
        "#          images, labels = images.view(-1, 28*28*1).to(device), labels.to(device)\n",
        "          images, labels = images.to(device), labels.to(device)\n",
        "          outputs = net(images)\n",
        "          loss = criterion(outputs, labels)\n",
        "          val_loss += loss.item()\n",
        "          acc = (outputs.max(1)[1] == labels).sum()\n",
        "          val_acc += acc.item()\n",
        "    avg_val_loss = val_loss / len(valid_loader.dataset)\n",
        "    avg_val_acc = val_acc / len(valid_loader.dataset)\n",
        "    \n",
        "    # print log\n",
        "    print ('Epoch [{}/{}] train Loss: {loss:.4f}, train acc: {acc:.4f} | val_loss: {val_loss:.4f}, val_acc: {val_acc:.4f}' \n",
        "                   .format(epoch+1, num_epochs, i+1, loss=avg_train_loss, acc=avg_train_acc, val_loss=avg_val_loss, val_acc=avg_val_acc))\n",
        "\n",
        "    # append list for polt graph after training\n",
        "    train_loss_list.append(avg_train_loss)\n",
        "    train_acc_list.append(avg_train_acc)\n",
        "    val_loss_list.append(avg_val_loss)\n",
        "    val_acc_list.append(avg_val_acc)\n"
      ]
    },
    {
      "cell_type": "code",
      "execution_count": 17,
      "metadata": {
        "colab": {
          "base_uri": "https://localhost:8080/"
        },
        "id": "lcVFP0RKG6Uf",
        "outputId": "48e04433-1c5f-49ef-f73f-61521c39bac2"
      },
      "outputs": [
        {
          "name": "stdout",
          "output_type": "stream",
          "text": [
            "test_accuracy: 10.0 %\n"
          ]
        }
      ],
      "source": [
        "# ======== eval_mode (test samples) ======\n",
        "net.eval()\n",
        "with torch.no_grad():\n",
        "    total = 0\n",
        "    test_acc = 0\n",
        "    for images, labels in test_loader:        \n",
        "#        images, labels = images.view(-1, 28 * 28 * 1 ).to(device), labels.to(device)\n",
        "        images, labels = images.to(device), labels.to(device)\n",
        "        outputs = net(images)\n",
        "        test_acc += (outputs.max(1)[1] == labels).sum().item()\n",
        "        total += labels.size(0)\n",
        "    print('test_accuracy: {} %'.format(100 * test_acc / total)) \n",
        "\n",
        "# save weights (You can save the model by uncomment the following line)\n",
        "#torch.save(net.state_dict(), 'mnist_net.ckpt')\n"
      ]
    },
    {
      "cell_type": "code",
      "execution_count": 18,
      "metadata": {
        "colab": {
          "base_uri": "https://localhost:8080/",
          "height": 573
        },
        "id": "tEEIBGsJG6Uk",
        "outputId": "e23876f4-c0b9-4ee5-cb77-904dbcc5d514"
      },
      "outputs": [
        {
          "data": {
            "image/png": "[encoded data removed]",
            "text/plain": [
              "<Figure size 432x288 with 1 Axes>"
            ]
          },
          "metadata": {
            "needs_background": "light"
          },
          "output_type": "display_data"
        },
        {
          "data": {
            "image/png": "[encoded data removed]",
            "text/plain": [
              "<Figure size 432x288 with 1 Axes>"
            ]
          },
          "metadata": {
            "needs_background": "light"
          },
          "output_type": "display_data"
        }
      ],
      "source": [
        "# plot graph\n",
        "import matplotlib.pyplot as plt\n",
        "\n",
        "plt.figure()\n",
        "plt.plot(range(num_epochs), train_loss_list, color='blue', linestyle='-', label='train_loss')\n",
        "plt.plot(range(num_epochs), val_loss_list, color='green', linestyle='--', label='val_loss')\n",
        "plt.ylim([0.0,0.1])\n",
        "plt.legend()\n",
        "plt.xlabel('epoch')\n",
        "plt.ylabel('loss')\n",
        "plt.title('Training and validation loss')\n",
        "plt.grid()\n",
        "plt.savefig('CNN_cifar10_loss.png')\n",
        "plt.show()\n",
        "\n",
        "plt.figure()\n",
        "plt.plot(range(num_epochs), train_acc_list, color='blue', linestyle='-', label='train_acc')\n",
        "plt.plot(range(num_epochs), val_acc_list, color='green', linestyle='--', label='val_acc')\n",
        "plt.ylim([0.0, 1.0])\n",
        "plt.legend()\n",
        "plt.xlabel('epoch')\n",
        "plt.ylabel('acc')\n",
        "plt.title('Training and validation accuracy')\n",
        "plt.grid()\n",
        "plt.savefig('CNN_cifar10_acc.png')\n",
        "plt.show()"
      ]
    },
    {
      "cell_type": "code",
      "execution_count": null,
      "metadata": {
        "id": "g1jdTzc0G6Up"
      },
      "outputs": [],
      "source": []
    }
  ],
  "metadata": {
    "accelerator": "GPU",
    "colab": {
      "include_colab_link": true,
      "name": "CNN_cifar10.ipynb",
      "provenance": []
    },
    "kernelspec": {
      "display_name": "Python 3.9.12 ('base')",
      "language": "python",
      "name": "python3"
    },
    "language_info": {
      "codemirror_mode": {
        "name": "ipython",
        "version": 3
      },
      "file_extension": ".py",
      "mimetype": "text/x-python",
      "name": "python",
      "nbconvert_exporter": "python",
      "pygments_lexer": "ipython3",
      "version": "3.9.12"
    },
    "vscode": {
      "interpreter": {
        "hash": "99f8564f89c7a572d733cb01d087a2df76f81fcc1b747f1674f8ba70f4bc2ce3"
      }
    },
    "widgets": {
      "application/vnd.jupyter.widget-state+json": {
        "01b4be52750d47c5afefb2e05fda15ab": {
          "model_module": "@jupyter-widgets/controls",
          "model_module_version": "1.5.0",
          "model_name": "DescriptionStyleModel",
          "state": {
            "_model_module": "@jupyter-widgets/controls",
            "_model_module_version": "1.5.0",
            "_model_name": "DescriptionStyleModel",
            "_view_count": null,
            "_view_module": "@jupyter-widgets/base",
            "_view_module_version": "1.2.0",
            "_view_name": "StyleView",
            "description_width": ""
          }
        },
        "03290858f7ee40eb817ed873d7a08a08": {
          "model_module": "@jupyter-widgets/base",
          "model_module_version": "1.2.0",
          "model_name": "LayoutModel",
          "state": {
            "_model_module": "@jupyter-widgets/base",
            "_model_module_version": "1.2.0",
            "_model_name": "LayoutModel",
            "_view_count": null,
            "_view_module": "@jupyter-widgets/base",
            "_view_module_version": "1.2.0",
            "_view_name": "LayoutView",
            "align_content": null,
            "align_items": null,
            "align_self": null,
            "border": null,
            "bottom": null,
            "display": null,
            "flex": null,
            "flex_flow": null,
            "grid_area": null,
            "grid_auto_columns": null,
            "grid_auto_flow": null,
            "grid_auto_rows": null,
            "grid_column": null,
            "grid_gap": null,
            "grid_row": null,
            "grid_template_areas": null,
            "grid_template_columns": null,
            "grid_template_rows": null,
            "height": null,
            "justify_content": null,
            "justify_items": null,
            "left": null,
            "margin": null,
            "max_height": null,
            "max_width": null,
            "min_height": null,
            "min_width": null,
            "object_fit": null,
            "object_position": null,
            "order": null,
            "overflow": null,
            "overflow_x": null,
            "overflow_y": null,
            "padding": null,
            "right": null,
            "top": null,
            "visibility": null,
            "width": null
          }
        },
        "20fe60ea1ca04eb48c398731cecc3110": {
          "model_module": "@jupyter-widgets/controls",
          "model_module_version": "1.5.0",
          "model_name": "ProgressStyleModel",
          "state": {
            "_model_module": "@jupyter-widgets/controls",
            "_model_module_version": "1.5.0",
            "_model_name": "ProgressStyleModel",
            "_view_count": null,
            "_view_module": "@jupyter-widgets/base",
            "_view_module_version": "1.2.0",
            "_view_name": "StyleView",
            "bar_color": null,
            "description_width": ""
          }
        },
        "5a730bcbde2e4d94918635a03087a58c": {
          "model_module": "@jupyter-widgets/controls",
          "model_module_version": "1.5.0",
          "model_name": "DescriptionStyleModel",
          "state": {
            "_model_module": "@jupyter-widgets/controls",
            "_model_module_version": "1.5.0",
            "_model_name": "DescriptionStyleModel",
            "_view_count": null,
            "_view_module": "@jupyter-widgets/base",
            "_view_module_version": "1.2.0",
            "_view_name": "StyleView",
            "description_width": ""
          }
        },
        "94ae3caae0594173a24f435281de8701": {
          "model_module": "@jupyter-widgets/controls",
          "model_module_version": "1.5.0",
          "model_name": "FloatProgressModel",
          "state": {
            "_dom_classes": [],
            "_model_module": "@jupyter-widgets/controls",
            "_model_module_version": "1.5.0",
            "_model_name": "FloatProgressModel",
            "_view_count": null,
            "_view_module": "@jupyter-widgets/controls",
            "_view_module_version": "1.5.0",
            "_view_name": "ProgressView",
            "bar_style": "success",
            "description": "",
            "description_tooltip": null,
            "layout": "IPY_MODEL_f3004539ff48435e8408494feccecb5c",
            "max": 170498071,
            "min": 0,
            "orientation": "horizontal",
            "style": "IPY_MODEL_20fe60ea1ca04eb48c398731cecc3110",
            "value": 170498071
          }
        },
        "95e996b001924346873ef863f585d7ce": {
          "model_module": "@jupyter-widgets/controls",
          "model_module_version": "1.5.0",
          "model_name": "HBoxModel",
          "state": {
            "_dom_classes": [],
            "_model_module": "@jupyter-widgets/controls",
            "_model_module_version": "1.5.0",
            "_model_name": "HBoxModel",
            "_view_count": null,
            "_view_module": "@jupyter-widgets/controls",
            "_view_module_version": "1.5.0",
            "_view_name": "HBoxView",
            "box_style": "",
            "children": [
              "IPY_MODEL_f888cb99221a427199bf44bb31b1a340",
              "IPY_MODEL_94ae3caae0594173a24f435281de8701",
              "IPY_MODEL_ab084b30f6fc44bf98326b0737090554"
            ],
            "layout": "IPY_MODEL_03290858f7ee40eb817ed873d7a08a08"
          }
        },
        "ab084b30f6fc44bf98326b0737090554": {
          "model_module": "@jupyter-widgets/controls",
          "model_module_version": "1.5.0",
          "model_name": "HTMLModel",
          "state": {
            "_dom_classes": [],
            "_model_module": "@jupyter-widgets/controls",
            "_model_module_version": "1.5.0",
            "_model_name": "HTMLModel",
            "_view_count": null,
            "_view_module": "@jupyter-widgets/controls",
            "_view_module_version": "1.5.0",
            "_view_name": "HTMLView",
            "description": "",
            "description_tooltip": null,
            "layout": "IPY_MODEL_caadd93843184c32bc4e03789280119d",
            "placeholder": "​",
            "style": "IPY_MODEL_01b4be52750d47c5afefb2e05fda15ab",
            "value": " 170499072/? [00:03&lt;00:00, 49529525.07it/s]"
          }
        },
        "caadd93843184c32bc4e03789280119d": {
          "model_module": "@jupyter-widgets/base",
          "model_module_version": "1.2.0",
          "model_name": "LayoutModel",
          "state": {
            "_model_module": "@jupyter-widgets/base",
            "_model_module_version": "1.2.0",
            "_model_name": "LayoutModel",
            "_view_count": null,
            "_view_module": "@jupyter-widgets/base",
            "_view_module_version": "1.2.0",
            "_view_name": "LayoutView",
            "align_content": null,
            "align_items": null,
            "align_self": null,
            "border": null,
            "bottom": null,
            "display": null,
            "flex": null,
            "flex_flow": null,
            "grid_area": null,
            "grid_auto_columns": null,
            "grid_auto_flow": null,
            "grid_auto_rows": null,
            "grid_column": null,
            "grid_gap": null,
            "grid_row": null,
            "grid_template_areas": null,
            "grid_template_columns": null,
            "grid_template_rows": null,
            "height": null,
            "justify_content": null,
            "justify_items": null,
            "left": null,
            "margin": null,
            "max_height": null,
            "max_width": null,
            "min_height": null,
            "min_width": null,
            "object_fit": null,
            "object_position": null,
            "order": null,
            "overflow": null,
            "overflow_x": null,
            "overflow_y": null,
            "padding": null,
            "right": null,
            "top": null,
            "visibility": null,
            "width": null
          }
        },
        "d36eba36d8004d6ba5aa0e46e6f12735": {
          "model_module": "@jupyter-widgets/base",
          "model_module_version": "1.2.0",
          "model_name": "LayoutModel",
          "state": {
            "_model_module": "@jupyter-widgets/base",
            "_model_module_version": "1.2.0",
            "_model_name": "LayoutModel",
            "_view_count": null,
            "_view_module": "@jupyter-widgets/base",
            "_view_module_version": "1.2.0",
            "_view_name": "LayoutView",
            "align_content": null,
            "align_items": null,
            "align_self": null,
            "border": null,
            "bottom": null,
            "display": null,
            "flex": null,
            "flex_flow": null,
            "grid_area": null,
            "grid_auto_columns": null,
            "grid_auto_flow": null,
            "grid_auto_rows": null,
            "grid_column": null,
            "grid_gap": null,
            "grid_row": null,
            "grid_template_areas": null,
            "grid_template_columns": null,
            "grid_template_rows": null,
            "height": null,
            "justify_content": null,
            "justify_items": null,
            "left": null,
            "margin": null,
            "max_height": null,
            "max_width": null,
            "min_height": null,
            "min_width": null,
            "object_fit": null,
            "object_position": null,
            "order": null,
            "overflow": null,
            "overflow_x": null,
            "overflow_y": null,
            "padding": null,
            "right": null,
            "top": null,
            "visibility": null,
            "width": null
          }
        },
        "f3004539ff48435e8408494feccecb5c": {
          "model_module": "@jupyter-widgets/base",
          "model_module_version": "1.2.0",
          "model_name": "LayoutModel",
          "state": {
            "_model_module": "@jupyter-widgets/base",
            "_model_module_version": "1.2.0",
            "_model_name": "LayoutModel",
            "_view_count": null,
            "_view_module": "@jupyter-widgets/base",
            "_view_module_version": "1.2.0",
            "_view_name": "LayoutView",
            "align_content": null,
            "align_items": null,
            "align_self": null,
            "border": null,
            "bottom": null,
            "display": null,
            "flex": null,
            "flex_flow": null,
            "grid_area": null,
            "grid_auto_columns": null,
            "grid_auto_flow": null,
            "grid_auto_rows": null,
            "grid_column": null,
            "grid_gap": null,
            "grid_row": null,
            "grid_template_areas": null,
            "grid_template_columns": null,
            "grid_template_rows": null,
            "height": null,
            "justify_content": null,
            "justify_items": null,
            "left": null,
            "margin": null,
            "max_height": null,
            "max_width": null,
            "min_height": null,
            "min_width": null,
            "object_fit": null,
            "object_position": null,
            "order": null,
            "overflow": null,
            "overflow_x": null,
            "overflow_y": null,
            "padding": null,
            "right": null,
            "top": null,
            "visibility": null,
            "width": null
          }
        },
        "f888cb99221a427199bf44bb31b1a340": {
          "model_module": "@jupyter-widgets/controls",
          "model_module_version": "1.5.0",
          "model_name": "HTMLModel",
          "state": {
            "_dom_classes": [],
            "_model_module": "@jupyter-widgets/controls",
            "_model_module_version": "1.5.0",
            "_model_name": "HTMLModel",
            "_view_count": null,
            "_view_module": "@jupyter-widgets/controls",
            "_view_module_version": "1.5.0",
            "_view_name": "HTMLView",
            "description": "",
            "description_tooltip": null,
            "layout": "IPY_MODEL_d36eba36d8004d6ba5aa0e46e6f12735",
            "placeholder": "​",
            "style": "IPY_MODEL_5a730bcbde2e4d94918635a03087a58c",
            "value": ""
          }
        }
      }
    }
  },
  "nbformat": 4,
  "nbformat_minor": 0
}
