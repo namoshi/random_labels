{
  "cells": [
    {
      "cell_type": "markdown",
      "metadata": {
        "id": "view-in-github",
        "colab_type": "text"
      },
      "source": [
        "<a href=\"https://colab.research.google.com/github/namoshi/random_labels/blob/main/CNN_cifar10-randomlabels.ipynb\" target=\"_parent\"><img src=\"https://colab.research.google.com/assets/colab-badge.svg\" alt=\"Open In Colab\"/></a>"
      ]
    },
    {
      "cell_type": "markdown",
      "metadata": {
        "id": "lAnUu7lqG6T5"
      },
      "source": [
        "## Convolutional Neural Network (CNN)\n",
        "\n",
        "Image Classification (CIAR-10) by CNN"
      ]
    },
    {
      "cell_type": "code",
      "execution_count": 1,
      "metadata": {
        "id": "d1k6RAqdG6T7"
      },
      "outputs": [],
      "source": [
        "import torch\n",
        "import torch.nn as nn\n",
        "import torch.optim as optim\n",
        "import torchvision.datasets as dsets\n",
        "import torchvision.transforms as transforms\n",
        "import torch.nn.functional as F"
      ]
    },
    {
      "cell_type": "code",
      "execution_count": 2,
      "metadata": {
        "colab": {
          "base_uri": "https://localhost:8080/",
          "height": 153,
          "referenced_widgets": [
            "95e996b001924346873ef863f585d7ce",
            "03290858f7ee40eb817ed873d7a08a08",
            "f888cb99221a427199bf44bb31b1a340",
            "94ae3caae0594173a24f435281de8701",
            "ab084b30f6fc44bf98326b0737090554",
            "5a730bcbde2e4d94918635a03087a58c",
            "d36eba36d8004d6ba5aa0e46e6f12735",
            "20fe60ea1ca04eb48c398731cecc3110",
            "f3004539ff48435e8408494feccecb5c",
            "01b4be52750d47c5afefb2e05fda15ab",
            "caadd93843184c32bc4e03789280119d"
          ]
        },
        "id": "AE_KqyBzG6UA",
        "outputId": "ddff410f-5c4f-490c-dc69-1ccdf13b53da"
      },
      "outputs": [
        {
          "output_type": "stream",
          "name": "stdout",
          "text": [
            "Downloading https://www.cs.toronto.edu/~kriz/cifar-10-python.tar.gz to ./data/cifar-10-python.tar.gz\n"
          ]
        },
        {
          "output_type": "display_data",
          "data": {
            "application/vnd.jupyter.widget-view+json": {
              "model_id": "95e996b001924346873ef863f585d7ce",
              "version_minor": 0,
              "version_major": 2
            },
            "text/plain": [
              "  0%|          | 0/170498071 [00:00<?, ?it/s]"
            ]
          },
          "metadata": {}
        },
        {
          "output_type": "stream",
          "name": "stdout",
          "text": [
            "Extracting ./data/cifar-10-python.tar.gz to ./data\n",
            "Files already downloaded and verified\n",
            "train_dataset =  40000\n",
            "valid_dataset =  10000\n",
            "test_dataset =  10000\n"
          ]
        }
      ],
      "source": [
        "# load CIFAR-10 data\n",
        "train_dataset = dsets.CIFAR10('./data',\n",
        "                         train=True,\n",
        "                         download=True,\n",
        "                         transform=transforms.Compose([\n",
        "                             transforms.ToTensor(),\n",
        "                             transforms.Normalize(\n",
        "                                [0.5, 0.5, 0.5],  # RGB 平均\n",
        "                                [0.5, 0.5, 0.5]   # RGB 標準偏差\n",
        "                                )\n",
        "                         ]))\n",
        "\n",
        "test_dataset = dsets.CIFAR10('./data',\n",
        "                         train=False,\n",
        "                         download=True,\n",
        "                         transform=transforms.Compose([\n",
        "                             transforms.ToTensor(),\n",
        "                             transforms.Normalize(\n",
        "                                 [0.5, 0.5, 0.5],  # RGB 平均\n",
        "                                 [0.5, 0.5, 0.5]  # RGB 標準偏差\n",
        "                             )\n",
        "                         ]))\n",
        "\n",
        "#print(len(train_Dataset))\n",
        "\n",
        "train_dataset, valid_dataset = torch.utils.data.random_split(  # データセットの分割\n",
        "      train_dataset,   # 分割するデータセット\n",
        "      [40000, 10000])  # 分割数\n",
        " \n",
        "print('train_dataset = ', len(train_dataset))\n",
        "print('valid_dataset = ', len(valid_dataset))  \n",
        "print('test_dataset = ', len(test_dataset))\n",
        "\n"
      ]
    },
    {
      "cell_type": "code",
      "execution_count": 3,
      "metadata": {
        "id": "aav3n_2KG6UG"
      },
      "outputs": [],
      "source": [
        "# Set up DataLoader\n",
        "batch=128\n",
        "\n",
        "train_loader = torch.utils.data.DataLoader(\n",
        "        dataset=train_dataset,\n",
        "        batch_size=batch,\n",
        "        shuffle=True\n",
        "    )\n",
        "\n",
        "valid_loader = torch.utils.data.DataLoader(\n",
        "        dataset=valid_dataset,\n",
        "        batch_size=batch,\n",
        "        shuffle=True\n",
        "    )\n",
        "\n",
        "test_loader = torch.utils.data.DataLoader(\n",
        "        dataset=test_dataset,\n",
        "        batch_size=batch,\n",
        "        shuffle=True\n",
        "    )\n"
      ]
    },
    {
      "cell_type": "code",
      "execution_count": 4,
      "metadata": {
        "colab": {
          "base_uri": "https://localhost:8080/"
        },
        "id": "SlhzS6FfG6UK",
        "outputId": "9f346b65-d1a9-4c57-e5c3-fb075b20cbea"
      },
      "outputs": [
        {
          "output_type": "stream",
          "name": "stdout",
          "text": [
            "cuda\n",
            "Network architecture for CNN\n",
            " Network(\n",
            "  (conv1): Conv2d(3, 32, kernel_size=(3, 3), stride=(1, 1), padding=(1, 1))\n",
            "  (pool1): MaxPool2d(kernel_size=2, stride=2, padding=0, dilation=1, ceil_mode=False)\n",
            "  (dropout1): Dropout2d(p=0.2, inplace=False)\n",
            "  (conv2): Conv2d(32, 32, kernel_size=(3, 3), stride=(1, 1), padding=(1, 1))\n",
            "  (pool2): MaxPool2d(kernel_size=2, stride=2, padding=0, dilation=1, ceil_mode=False)\n",
            "  (dropout2): Dropout2d(p=0.2, inplace=False)\n",
            "  (fc1): Linear(in_features=2048, out_features=128, bias=True)\n",
            "  (dropout3): Dropout2d(p=0.2, inplace=False)\n",
            "  (fc2): Linear(in_features=128, out_features=10, bias=True)\n",
            ")\n"
          ]
        }
      ],
      "source": [
        "class Network(nn.Module):\n",
        "    def __init__(self):\n",
        "        super(Network, self).__init__()\n",
        "        self.conv1 = nn.Conv2d(3,32,3, padding=1)\n",
        "        self.pool1 = nn.MaxPool2d(2,2)\n",
        "        self.dropout1 = nn.Dropout2d(0.2)\n",
        "        self.conv2 = nn.Conv2d(32,32,3, padding=1)\n",
        "        self.pool2 = nn.MaxPool2d(2,2)\n",
        "        self.dropout2 = nn.Dropout2d(0.2)\n",
        "        self.fc1 = nn.Linear(32*8*8, 128)\n",
        "        self.dropout3 = nn.Dropout2d(0.2)\n",
        "        self.fc2 = nn.Linear(128, 10)\n",
        "\n",
        "\n",
        "    def forward(self, x):\n",
        "        x = self.pool1(F.relu(self.conv1(x)))\n",
        "        x = self.dropout1(x)\n",
        "        x = self.pool2(F.relu(self.conv2(x)))\n",
        "        x = self.dropout2(x)\n",
        "        x = x.view(-1, 32 * 8 * 8)\n",
        "        x = F.relu(self.fc1(x))\n",
        "        x = self.dropout3(x)\n",
        "        x = self.fc2(x)\n",
        "        return x\n",
        "\n",
        "net = Network()\n",
        "device = 'cuda' if torch.cuda.is_available() else 'cpu'\n",
        "print(device)\n",
        "\n",
        "if torch.cuda.is_available():\n",
        "  net.cuda()\n",
        "\n",
        "print('Network architecture for CNN\\n', net)"
      ]
    },
    {
      "cell_type": "code",
      "execution_count": 5,
      "metadata": {
        "id": "OlCfd_HXG6UQ"
      },
      "outputs": [],
      "source": [
        "# optimizing\n",
        "criterion = nn.CrossEntropyLoss()\n",
        "optimizer = optim.SGD(net.parameters(), lr=0.01, momentum=0.9, weight_decay=0.001)\n",
        "#optimizer = optim.AdamW(net.parameters(), lr=0.01, weight_decay=0.001)\n"
      ]
    },
    {
      "cell_type": "code",
      "execution_count": 6,
      "metadata": {
        "id": "8XOoWNm9G6UU"
      },
      "outputs": [],
      "source": [
        "# Define Class names\n",
        "classes = ('plane', 'car', 'bird', 'cat', 'deer',\n",
        "               'dog', 'frog', 'horse', 'ship', 'truck')\n",
        " "
      ]
    },
    {
      "cell_type": "code",
      "execution_count": 7,
      "metadata": {
        "id": "9hShScW313V1"
      },
      "outputs": [],
      "source": [
        "import numpy as np\n",
        "\n",
        "noise_p = 0.1\n",
        "\n",
        "def random_labels(labels, noise_p):\n",
        "    s = np.random.default_rng().uniform(0,1,len(labels))\n",
        "    indx = (s >= (1.0 - noise_p))\n",
        "#    print(indx)\n",
        "\n",
        "#    print(labels)\n",
        "#    print(labels[indx])\n",
        "    new_labels = labels.detach().numpy().copy()\n",
        "#    print(new_labels[indx])\n",
        "#    print(len(new_labels[indx]))\n",
        "    new_labels[indx] = np.random.randint(0,9,len(new_labels[indx]))\n",
        "    new_labels = torch.from_numpy(new_labels).clone()\n",
        "#    print(new_labels)\n",
        "#    print(new_labels == labels)\n",
        "\n",
        "    return new_labels"
      ]
    },
    {
      "cell_type": "code",
      "execution_count": 8,
      "metadata": {
        "colab": {
          "base_uri": "https://localhost:8080/"
        },
        "id": "QLVSY_raG6UZ",
        "outputId": "a35047a3-24d0-458d-fd74-f4c73505c9ea"
      },
      "outputs": [
        {
          "output_type": "stream",
          "name": "stdout",
          "text": [
            "training start ...\n",
            "Epoch [1/50] train Loss: 0.0135, train acc: 0.4005 | val_loss: 0.0135, val_acc: 0.4015\n",
            "Epoch [2/50] train Loss: 0.0119, train acc: 0.4767 | val_loss: 0.0120, val_acc: 0.4747\n",
            "Epoch [3/50] train Loss: 0.0110, train acc: 0.5238 | val_loss: 0.0112, val_acc: 0.5232\n",
            "Epoch [4/50] train Loss: 0.0102, train acc: 0.5666 | val_loss: 0.0104, val_acc: 0.5618\n",
            "Epoch [5/50] train Loss: 0.0096, train acc: 0.5827 | val_loss: 0.0099, val_acc: 0.5744\n",
            "Epoch [6/50] train Loss: 0.0090, train acc: 0.6191 | val_loss: 0.0094, val_acc: 0.6012\n",
            "Epoch [7/50] train Loss: 0.0084, train acc: 0.6370 | val_loss: 0.0089, val_acc: 0.6159\n",
            "Epoch [8/50] train Loss: 0.0086, train acc: 0.6599 | val_loss: 0.0091, val_acc: 0.6373\n",
            "Epoch [9/50] train Loss: 0.0079, train acc: 0.6748 | val_loss: 0.0085, val_acc: 0.6447\n",
            "Epoch [10/50] train Loss: 0.0078, train acc: 0.6904 | val_loss: 0.0084, val_acc: 0.6559\n",
            "Epoch [11/50] train Loss: 0.0077, train acc: 0.7048 | val_loss: 0.0084, val_acc: 0.6638\n",
            "Epoch [12/50] train Loss: 0.0074, train acc: 0.7045 | val_loss: 0.0081, val_acc: 0.6628\n",
            "Epoch [13/50] train Loss: 0.0071, train acc: 0.7251 | val_loss: 0.0079, val_acc: 0.6784\n",
            "Epoch [14/50] train Loss: 0.0071, train acc: 0.7350 | val_loss: 0.0080, val_acc: 0.6822\n",
            "Epoch [15/50] train Loss: 0.0068, train acc: 0.7439 | val_loss: 0.0077, val_acc: 0.6887\n",
            "Epoch [16/50] train Loss: 0.0065, train acc: 0.7509 | val_loss: 0.0076, val_acc: 0.6873\n",
            "Epoch [17/50] train Loss: 0.0066, train acc: 0.7653 | val_loss: 0.0077, val_acc: 0.6906\n",
            "Epoch [18/50] train Loss: 0.0062, train acc: 0.7679 | val_loss: 0.0074, val_acc: 0.6949\n",
            "Epoch [19/50] train Loss: 0.0062, train acc: 0.7712 | val_loss: 0.0075, val_acc: 0.6981\n",
            "Epoch [20/50] train Loss: 0.0059, train acc: 0.7720 | val_loss: 0.0072, val_acc: 0.6974\n",
            "Epoch [21/50] train Loss: 0.0058, train acc: 0.7873 | val_loss: 0.0072, val_acc: 0.7024\n",
            "Epoch [22/50] train Loss: 0.0058, train acc: 0.7973 | val_loss: 0.0073, val_acc: 0.7049\n",
            "Epoch [23/50] train Loss: 0.0057, train acc: 0.8005 | val_loss: 0.0072, val_acc: 0.7071\n",
            "Epoch [24/50] train Loss: 0.0057, train acc: 0.8017 | val_loss: 0.0073, val_acc: 0.7076\n",
            "Epoch [25/50] train Loss: 0.0057, train acc: 0.8078 | val_loss: 0.0073, val_acc: 0.7067\n",
            "Epoch [26/50] train Loss: 0.0055, train acc: 0.8095 | val_loss: 0.0073, val_acc: 0.7066\n",
            "Epoch [27/50] train Loss: 0.0052, train acc: 0.8152 | val_loss: 0.0070, val_acc: 0.7109\n",
            "Epoch [28/50] train Loss: 0.0053, train acc: 0.8278 | val_loss: 0.0072, val_acc: 0.7143\n",
            "Epoch [29/50] train Loss: 0.0054, train acc: 0.8288 | val_loss: 0.0072, val_acc: 0.7114\n",
            "Epoch [30/50] train Loss: 0.0051, train acc: 0.8334 | val_loss: 0.0071, val_acc: 0.7115\n",
            "Epoch [31/50] train Loss: 0.0051, train acc: 0.8216 | val_loss: 0.0071, val_acc: 0.7052\n",
            "Epoch [32/50] train Loss: 0.0049, train acc: 0.8418 | val_loss: 0.0071, val_acc: 0.7107\n",
            "Epoch [33/50] train Loss: 0.0048, train acc: 0.8486 | val_loss: 0.0070, val_acc: 0.7173\n",
            "Epoch [34/50] train Loss: 0.0049, train acc: 0.8548 | val_loss: 0.0070, val_acc: 0.7196\n",
            "Epoch [35/50] train Loss: 0.0048, train acc: 0.8518 | val_loss: 0.0070, val_acc: 0.7129\n",
            "Epoch [36/50] train Loss: 0.0048, train acc: 0.8628 | val_loss: 0.0070, val_acc: 0.7188\n",
            "Epoch [37/50] train Loss: 0.0047, train acc: 0.8586 | val_loss: 0.0070, val_acc: 0.7115\n",
            "Epoch [38/50] train Loss: 0.0047, train acc: 0.8665 | val_loss: 0.0071, val_acc: 0.7205\n",
            "Epoch [39/50] train Loss: 0.0046, train acc: 0.8641 | val_loss: 0.0070, val_acc: 0.7174\n",
            "Epoch [40/50] train Loss: 0.0044, train acc: 0.8680 | val_loss: 0.0069, val_acc: 0.7155\n",
            "Epoch [41/50] train Loss: 0.0042, train acc: 0.8770 | val_loss: 0.0068, val_acc: 0.7245\n",
            "Epoch [42/50] train Loss: 0.0042, train acc: 0.8736 | val_loss: 0.0068, val_acc: 0.7181\n",
            "Epoch [43/50] train Loss: 0.0043, train acc: 0.8818 | val_loss: 0.0069, val_acc: 0.7243\n",
            "Epoch [44/50] train Loss: 0.0042, train acc: 0.8853 | val_loss: 0.0068, val_acc: 0.7193\n",
            "Epoch [45/50] train Loss: 0.0041, train acc: 0.8858 | val_loss: 0.0068, val_acc: 0.7220\n",
            "Epoch [46/50] train Loss: 0.0042, train acc: 0.8865 | val_loss: 0.0069, val_acc: 0.7200\n",
            "Epoch [47/50] train Loss: 0.0043, train acc: 0.8879 | val_loss: 0.0070, val_acc: 0.7176\n",
            "Epoch [48/50] train Loss: 0.0041, train acc: 0.8881 | val_loss: 0.0069, val_acc: 0.7187\n",
            "Epoch [49/50] train Loss: 0.0042, train acc: 0.8984 | val_loss: 0.0069, val_acc: 0.7171\n",
            "Epoch [50/50] train Loss: 0.0038, train acc: 0.8998 | val_loss: 0.0068, val_acc: 0.7219\n"
          ]
        }
      ],
      "source": [
        "###  training\n",
        "print ('training start ...')\n",
        "num_epochs = 50   \n",
        "\n",
        "# initialize list for plot graph after training\n",
        "train_loss_list, train_acc_list, val_loss_list, val_acc_list = [], [], [], []\n",
        "\n",
        "for epoch in range(num_epochs):\n",
        "    # initialize each epoch\n",
        "    train_loss, train_acc, val_loss, val_acc = 0, 0, 0, 0\n",
        "    \n",
        "    # ======== train_mode (Backprop) ======\n",
        "    net.train()\n",
        "    for i, (images, labels) in enumerate(train_loader):  # get mini batch samples\n",
        "        #viewで28×28×１画像を１次元に変換し、deviceへ転送\n",
        "#        images, labels = images.view(-1, 28*28*1).to(device), labels.to(device)\n",
        "        labels = random_labels(labels, 0.1)\n",
        "        images, labels = images.to(device), labels.to(device)\n",
        "        optimizer.zero_grad()  # Reset the gradients\n",
        "        outputs = net(images)  # forward computation\n",
        "        loss = criterion(outputs, labels)  # loss\n",
        "        loss.backward()  # backward computation        \n",
        "        optimizer.step()  # optimization\n",
        "    \n",
        "    # ======== eval_mode (training samples) ======\n",
        "    net.eval()\n",
        "    with torch.no_grad():  # no computation of gradients\n",
        "      for images, labels in train_loader:        \n",
        "#          images, labels = images.view(-1, 28*28*1).to(device), labels.to(device)\n",
        "          images, labels = images.to(device), labels.to(device)\n",
        "          outputs = net(images)\n",
        "          loss = criterion(outputs, labels)\n",
        "          train_loss += loss.item()\n",
        "          acc = (outputs.max(1)[1] == labels).sum()\n",
        "          train_acc += acc.item()\n",
        "    avg_train_loss = train_loss / len(train_loader.dataset)\n",
        "    avg_train_acc = train_acc / len(train_loader.dataset)\n",
        "\n",
        "    # ======== eval_mode (validation samples) ======\n",
        "    net.eval()\n",
        "    with torch.no_grad():  # no comptutation of gradients\n",
        "      for images, labels in valid_loader:        \n",
        "#          images, labels = images.view(-1, 28*28*1).to(device), labels.to(device)\n",
        "          images, labels = images.to(device), labels.to(device)\n",
        "          outputs = net(images)\n",
        "          loss = criterion(outputs, labels)\n",
        "          val_loss += loss.item()\n",
        "          acc = (outputs.max(1)[1] == labels).sum()\n",
        "          val_acc += acc.item()\n",
        "    avg_val_loss = val_loss / len(valid_loader.dataset)\n",
        "    avg_val_acc = val_acc / len(valid_loader.dataset)\n",
        "    \n",
        "    # print log\n",
        "    print ('Epoch [{}/{}] train Loss: {loss:.4f}, train acc: {acc:.4f} | val_loss: {val_loss:.4f}, val_acc: {val_acc:.4f}' \n",
        "                   .format(epoch+1, num_epochs, i+1, loss=avg_train_loss, acc=avg_train_acc, val_loss=avg_val_loss, val_acc=avg_val_acc))\n",
        "\n",
        "    # append list for polt graph after training\n",
        "    train_loss_list.append(avg_train_loss)\n",
        "    train_acc_list.append(avg_train_acc)\n",
        "    val_loss_list.append(avg_val_loss)\n",
        "    val_acc_list.append(avg_val_acc)\n"
      ]
    },
    {
      "cell_type": "code",
      "execution_count": 9,
      "metadata": {
        "colab": {
          "base_uri": "https://localhost:8080/"
        },
        "id": "lcVFP0RKG6Uf",
        "outputId": "48e04433-1c5f-49ef-f73f-61521c39bac2"
      },
      "outputs": [
        {
          "output_type": "stream",
          "name": "stdout",
          "text": [
            "test_accuracy: 71.98 %\n"
          ]
        }
      ],
      "source": [
        "# ======== eval_mode (test samples) ======\n",
        "net.eval()\n",
        "with torch.no_grad():\n",
        "    total = 0\n",
        "    test_acc = 0\n",
        "    for images, labels in test_loader:        \n",
        "#        images, labels = images.view(-1, 28 * 28 * 1 ).to(device), labels.to(device)\n",
        "        images, labels = images.to(device), labels.to(device)\n",
        "        outputs = net(images)\n",
        "        test_acc += (outputs.max(1)[1] == labels).sum().item()\n",
        "        total += labels.size(0)\n",
        "    print('test_accuracy: {} %'.format(100 * test_acc / total)) \n",
        "\n",
        "# save weights (You can save the model by uncomment the following line)\n",
        "#torch.save(net.state_dict(), 'mnist_net.ckpt')\n"
      ]
    },
    {
      "cell_type": "code",
      "execution_count": 10,
      "metadata": {
        "colab": {
          "base_uri": "https://localhost:8080/",
          "height": 573
        },
        "id": "tEEIBGsJG6Uk",
        "outputId": "e23876f4-c0b9-4ee5-cb77-904dbcc5d514"
      },
      "outputs": [
        {
          "output_type": "display_data",
          "data": {
            "image/png": "[encoded data removed]",
            "text/plain": [
              "<Figure size 432x288 with 1 Axes>"
            ]
          },
          "metadata": {
            "needs_background": "light"
          }
        },
        {
          "output_type": "display_data",
          "data": {
            "image/png": "[encoded data removed]",
            "text/plain": [
              "<Figure size 432x288 with 1 Axes>"
            ]
          },
          "metadata": {
            "needs_background": "light"
          }
        }
      ],
      "source": [
        "# plot graph\n",
        "import matplotlib.pyplot as plt\n",
        "\n",
        "plt.figure()\n",
        "plt.plot(range(num_epochs), train_loss_list, color='blue', linestyle='-', label='train_loss')\n",
        "plt.plot(range(num_epochs), val_loss_list, color='green', linestyle='--', label='val_loss')\n",
        "plt.ylim([0.0,0.02])\n",
        "plt.legend()\n",
        "plt.xlabel('epoch')\n",
        "plt.ylabel('loss')\n",
        "plt.title('Training and validation loss')\n",
        "plt.grid()\n",
        "plt.savefig('CNN_cifar10_loss.png')\n",
        "plt.show()\n",
        "\n",
        "plt.figure()\n",
        "plt.plot(range(num_epochs), train_acc_list, color='blue', linestyle='-', label='train_acc')\n",
        "plt.plot(range(num_epochs), val_acc_list, color='green', linestyle='--', label='val_acc')\n",
        "plt.ylim([0.5, 1.0])\n",
        "plt.legend()\n",
        "plt.xlabel('epoch')\n",
        "plt.ylabel('acc')\n",
        "plt.title('Training and validation accuracy')\n",
        "plt.grid()\n",
        "plt.savefig('CNN_cifar10_acc.png')\n",
        "plt.show()"
      ]
    },
    {
      "cell_type": "code",
      "execution_count": 10,
      "metadata": {
        "id": "g1jdTzc0G6Up"
      },
      "outputs": [],
      "source": [
        ""
      ]
    }
  ],
  "metadata": {
    "accelerator": "GPU",
    "colab": {
      "name": "CNN_cifar10.ipynb",
      "provenance": [],
      "include_colab_link": true
    },
    "kernelspec": {
      "display_name": "Python 3",
      "language": "python",
      "name": "python3"
    },
    "language_info": {
      "codemirror_mode": {
        "name": "ipython",
        "version": 3
      },
      "file_extension": ".py",
      "mimetype": "text/x-python",
      "name": "python",
      "nbconvert_exporter": "python",
      "pygments_lexer": "ipython3",
      "version": "3.8.12"
    },
    "widgets": {
      "application/vnd.jupyter.widget-state+json": {
        "95e996b001924346873ef863f585d7ce": {
          "model_module": "@jupyter-widgets/controls",
          "model_name": "HBoxModel",
          "model_module_version": "1.5.0",
          "state": {
            "_view_name": "HBoxView",
            "_dom_classes": [],
            "_model_name": "HBoxModel",
            "_view_module": "@jupyter-widgets/controls",
            "_model_module_version": "1.5.0",
            "_view_count": null,
            "_view_module_version": "1.5.0",
            "box_style": "",
            "layout": "IPY_MODEL_03290858f7ee40eb817ed873d7a08a08",
            "_model_module": "@jupyter-widgets/controls",
            "children": [
              "IPY_MODEL_f888cb99221a427199bf44bb31b1a340",
              "IPY_MODEL_94ae3caae0594173a24f435281de8701",
              "IPY_MODEL_ab084b30f6fc44bf98326b0737090554"
            ]
          }
        },
        "03290858f7ee40eb817ed873d7a08a08": {
          "model_module": "@jupyter-widgets/base",
          "model_name": "LayoutModel",
          "model_module_version": "1.2.0",
          "state": {
            "_view_name": "LayoutView",
            "grid_template_rows": null,
            "right": null,
            "justify_content": null,
            "_view_module": "@jupyter-widgets/base",
            "overflow": null,
            "_model_module_version": "1.2.0",
            "_view_count": null,
            "flex_flow": null,
            "width": null,
            "min_width": null,
            "border": null,
            "align_items": null,
            "bottom": null,
            "_model_module": "@jupyter-widgets/base",
            "top": null,
            "grid_column": null,
            "overflow_y": null,
            "overflow_x": null,
            "grid_auto_flow": null,
            "grid_area": null,
            "grid_template_columns": null,
            "flex": null,
            "_model_name": "LayoutModel",
            "justify_items": null,
            "grid_row": null,
            "max_height": null,
            "align_content": null,
            "visibility": null,
            "align_self": null,
            "height": null,
            "min_height": null,
            "padding": null,
            "grid_auto_rows": null,
            "grid_gap": null,
            "max_width": null,
            "order": null,
            "_view_module_version": "1.2.0",
            "grid_template_areas": null,
            "object_position": null,
            "object_fit": null,
            "grid_auto_columns": null,
            "margin": null,
            "display": null,
            "left": null
          }
        },
        "f888cb99221a427199bf44bb31b1a340": {
          "model_module": "@jupyter-widgets/controls",
          "model_name": "HTMLModel",
          "model_module_version": "1.5.0",
          "state": {
            "_view_name": "HTMLView",
            "style": "IPY_MODEL_5a730bcbde2e4d94918635a03087a58c",
            "_dom_classes": [],
            "description": "",
            "_model_name": "HTMLModel",
            "placeholder": "​",
            "_view_module": "@jupyter-widgets/controls",
            "_model_module_version": "1.5.0",
            "value": "",
            "_view_count": null,
            "_view_module_version": "1.5.0",
            "description_tooltip": null,
            "_model_module": "@jupyter-widgets/controls",
            "layout": "IPY_MODEL_d36eba36d8004d6ba5aa0e46e6f12735"
          }
        },
        "94ae3caae0594173a24f435281de8701": {
          "model_module": "@jupyter-widgets/controls",
          "model_name": "FloatProgressModel",
          "model_module_version": "1.5.0",
          "state": {
            "_view_name": "ProgressView",
            "style": "IPY_MODEL_20fe60ea1ca04eb48c398731cecc3110",
            "_dom_classes": [],
            "description": "",
            "_model_name": "FloatProgressModel",
            "bar_style": "success",
            "max": 170498071,
            "_view_module": "@jupyter-widgets/controls",
            "_model_module_version": "1.5.0",
            "value": 170498071,
            "_view_count": null,
            "_view_module_version": "1.5.0",
            "orientation": "horizontal",
            "min": 0,
            "description_tooltip": null,
            "_model_module": "@jupyter-widgets/controls",
            "layout": "IPY_MODEL_f3004539ff48435e8408494feccecb5c"
          }
        },
        "ab084b30f6fc44bf98326b0737090554": {
          "model_module": "@jupyter-widgets/controls",
          "model_name": "HTMLModel",
          "model_module_version": "1.5.0",
          "state": {
            "_view_name": "HTMLView",
            "style": "IPY_MODEL_01b4be52750d47c5afefb2e05fda15ab",
            "_dom_classes": [],
            "description": "",
            "_model_name": "HTMLModel",
            "placeholder": "​",
            "_view_module": "@jupyter-widgets/controls",
            "_model_module_version": "1.5.0",
            "value": " 170499072/? [00:03&lt;00:00, 49529525.07it/s]",
            "_view_count": null,
            "_view_module_version": "1.5.0",
            "description_tooltip": null,
            "_model_module": "@jupyter-widgets/controls",
            "layout": "IPY_MODEL_caadd93843184c32bc4e03789280119d"
          }
        },
        "5a730bcbde2e4d94918635a03087a58c": {
          "model_module": "@jupyter-widgets/controls",
          "model_name": "DescriptionStyleModel",
          "model_module_version": "1.5.0",
          "state": {
            "_view_name": "StyleView",
            "_model_name": "DescriptionStyleModel",
            "description_width": "",
            "_view_module": "@jupyter-widgets/base",
            "_model_module_version": "1.5.0",
            "_view_count": null,
            "_view_module_version": "1.2.0",
            "_model_module": "@jupyter-widgets/controls"
          }
        },
        "d36eba36d8004d6ba5aa0e46e6f12735": {
          "model_module": "@jupyter-widgets/base",
          "model_name": "LayoutModel",
          "model_module_version": "1.2.0",
          "state": {
            "_view_name": "LayoutView",
            "grid_template_rows": null,
            "right": null,
            "justify_content": null,
            "_view_module": "@jupyter-widgets/base",
            "overflow": null,
            "_model_module_version": "1.2.0",
            "_view_count": null,
            "flex_flow": null,
            "width": null,
            "min_width": null,
            "border": null,
            "align_items": null,
            "bottom": null,
            "_model_module": "@jupyter-widgets/base",
            "top": null,
            "grid_column": null,
            "overflow_y": null,
            "overflow_x": null,
            "grid_auto_flow": null,
            "grid_area": null,
            "grid_template_columns": null,
            "flex": null,
            "_model_name": "LayoutModel",
            "justify_items": null,
            "grid_row": null,
            "max_height": null,
            "align_content": null,
            "visibility": null,
            "align_self": null,
            "height": null,
            "min_height": null,
            "padding": null,
            "grid_auto_rows": null,
            "grid_gap": null,
            "max_width": null,
            "order": null,
            "_view_module_version": "1.2.0",
            "grid_template_areas": null,
            "object_position": null,
            "object_fit": null,
            "grid_auto_columns": null,
            "margin": null,
            "display": null,
            "left": null
          }
        },
        "20fe60ea1ca04eb48c398731cecc3110": {
          "model_module": "@jupyter-widgets/controls",
          "model_name": "ProgressStyleModel",
          "model_module_version": "1.5.0",
          "state": {
            "_view_name": "StyleView",
            "_model_name": "ProgressStyleModel",
            "description_width": "",
            "_view_module": "@jupyter-widgets/base",
            "_model_module_version": "1.5.0",
            "_view_count": null,
            "_view_module_version": "1.2.0",
            "bar_color": null,
            "_model_module": "@jupyter-widgets/controls"
          }
        },
        "f3004539ff48435e8408494feccecb5c": {
          "model_module": "@jupyter-widgets/base",
          "model_name": "LayoutModel",
          "model_module_version": "1.2.0",
          "state": {
            "_view_name": "LayoutView",
            "grid_template_rows": null,
            "right": null,
            "justify_content": null,
            "_view_module": "@jupyter-widgets/base",
            "overflow": null,
            "_model_module_version": "1.2.0",
            "_view_count": null,
            "flex_flow": null,
            "width": null,
            "min_width": null,
            "border": null,
            "align_items": null,
            "bottom": null,
            "_model_module": "@jupyter-widgets/base",
            "top": null,
            "grid_column": null,
            "overflow_y": null,
            "overflow_x": null,
            "grid_auto_flow": null,
            "grid_area": null,
            "grid_template_columns": null,
            "flex": null,
            "_model_name": "LayoutModel",
            "justify_items": null,
            "grid_row": null,
            "max_height": null,
            "align_content": null,
            "visibility": null,
            "align_self": null,
            "height": null,
            "min_height": null,
            "padding": null,
            "grid_auto_rows": null,
            "grid_gap": null,
            "max_width": null,
            "order": null,
            "_view_module_version": "1.2.0",
            "grid_template_areas": null,
            "object_position": null,
            "object_fit": null,
            "grid_auto_columns": null,
            "margin": null,
            "display": null,
            "left": null
          }
        },
        "01b4be52750d47c5afefb2e05fda15ab": {
          "model_module": "@jupyter-widgets/controls",
          "model_name": "DescriptionStyleModel",
          "model_module_version": "1.5.0",
          "state": {
            "_view_name": "StyleView",
            "_model_name": "DescriptionStyleModel",
            "description_width": "",
            "_view_module": "@jupyter-widgets/base",
            "_model_module_version": "1.5.0",
            "_view_count": null,
            "_view_module_version": "1.2.0",
            "_model_module": "@jupyter-widgets/controls"
          }
        },
        "caadd93843184c32bc4e03789280119d": {
          "model_module": "@jupyter-widgets/base",
          "model_name": "LayoutModel",
          "model_module_version": "1.2.0",
          "state": {
            "_view_name": "LayoutView",
            "grid_template_rows": null,
            "right": null,
            "justify_content": null,
            "_view_module": "@jupyter-widgets/base",
            "overflow": null,
            "_model_module_version": "1.2.0",
            "_view_count": null,
            "flex_flow": null,
            "width": null,
            "min_width": null,
            "border": null,
            "align_items": null,
            "bottom": null,
            "_model_module": "@jupyter-widgets/base",
            "top": null,
            "grid_column": null,
            "overflow_y": null,
            "overflow_x": null,
            "grid_auto_flow": null,
            "grid_area": null,
            "grid_template_columns": null,
            "flex": null,
            "_model_name": "LayoutModel",
            "justify_items": null,
            "grid_row": null,
            "max_height": null,
            "align_content": null,
            "visibility": null,
            "align_self": null,
            "height": null,
            "min_height": null,
            "padding": null,
            "grid_auto_rows": null,
            "grid_gap": null,
            "max_width": null,
            "order": null,
            "_view_module_version": "1.2.0",
            "grid_template_areas": null,
            "object_position": null,
            "object_fit": null,
            "grid_auto_columns": null,
            "margin": null,
            "display": null,
            "left": null
          }
        }
      }
    }
  },
  "nbformat": 4,
  "nbformat_minor": 0
}