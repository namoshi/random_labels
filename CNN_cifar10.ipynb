{
  "cells": [
    {
      "cell_type": "markdown",
      "metadata": {
        "colab_type": "text",
        "id": "view-in-github"
      },
      "source": [
        "<a href=\"https://colab.research.google.com/github/namoshi/random_labels/blob/main/CNN_cifar10.ipynb\" target=\"_parent\"><img src=\"https://colab.research.google.com/assets/colab-badge.svg\" alt=\"Open In Colab\"/></a>"
      ]
    },
    {
      "cell_type": "markdown",
      "metadata": {
        "id": "lAnUu7lqG6T5"
      },
      "source": [
        "## Convolutional Neural Network (CNN)\n",
        "\n",
        "Image Classification (CIAR-10) by CNN"
      ]
    },
    {
      "cell_type": "code",
      "execution_count": 8,
      "metadata": {
        "id": "d1k6RAqdG6T7"
      },
      "outputs": [],
      "source": [
        "import torch\n",
        "import torch.nn as nn\n",
        "import torch.optim as optim\n",
        "import torchvision.datasets as dsets\n",
        "import torchvision.transforms as transforms\n",
        "import torch.nn.functional as F"
      ]
    },
    {
      "cell_type": "code",
      "execution_count": 9,
      "metadata": {
        "colab": {
          "base_uri": "https://localhost:8080/",
          "height": 153,
          "referenced_widgets": [
            "2c0f7e0e201d444aac41ebd68ee0e2cb",
            "745dd00c4040462db02630b436ce7bce",
            "af93e12f4a124ad1b3c1095677a651a8",
            "4084eec479e049e5a67214442a6d37d1",
            "6e2da28806bf4f05b0acbec8f33614cc",
            "3d2f2ccfc1d6487b9b6e15653d103ffa",
            "232f0559d16d40a1b805a6216a18eb6c",
            "37d6650a7b0c43cf8fac30222a89802c",
            "56ba71e8eec6433fb511de549908b32b",
            "cf81fd20ab3d4339841c9eb9fbe86470",
            "87033cf3a22141248a404d5de62b99e6"
          ]
        },
        "id": "AE_KqyBzG6UA",
        "outputId": "1e35de0c-5f9e-40c2-d21d-f855f0af7b18"
      },
      "outputs": [
        {
          "name": "stdout",
          "output_type": "stream",
          "text": [
            "Files already downloaded and verified\n",
            "Files already downloaded and verified\n",
            "train_dataset =  40000\n",
            "valid_dataset =  10000\n",
            "test_dataset =  10000\n"
          ]
        }
      ],
      "source": [
        "# load CIFAR-10 data\n",
        "train_dataset = dsets.CIFAR10('./data',\n",
        "                         train=True,\n",
        "                         download=True,\n",
        "                         transform=transforms.Compose([\n",
        "                             transforms.ToTensor(),\n",
        "                             transforms.Normalize(\n",
        "                                [0.5, 0.5, 0.5],  # RGB 平均\n",
        "                                [0.5, 0.5, 0.5]   # RGB 標準偏差\n",
        "                                )\n",
        "                         ]))\n",
        "\n",
        "test_dataset = dsets.CIFAR10('./data',\n",
        "                         train=False,\n",
        "                         download=True,\n",
        "                         transform=transforms.Compose([\n",
        "                             transforms.ToTensor(),\n",
        "                             transforms.Normalize(\n",
        "                                 [0.5, 0.5, 0.5],  # RGB 平均\n",
        "                                 [0.5, 0.5, 0.5]  # RGB 標準偏差\n",
        "                             )\n",
        "                         ]))\n",
        "\n",
        "#print(len(train_Dataset))\n",
        "\n",
        "train_dataset, valid_dataset = torch.utils.data.random_split(  # データセットの分割\n",
        "      train_dataset,   # 分割するデータセット\n",
        "      [40000, 10000])  # 分割数\n",
        " \n",
        "print('train_dataset = ', len(train_dataset))\n",
        "print('valid_dataset = ', len(valid_dataset))  \n",
        "print('test_dataset = ', len(test_dataset))\n",
        "\n"
      ]
    },
    {
      "cell_type": "code",
      "execution_count": 10,
      "metadata": {
        "id": "aav3n_2KG6UG"
      },
      "outputs": [],
      "source": [
        "# Set up DataLoader\n",
        "batch=128\n",
        "\n",
        "train_loader = torch.utils.data.DataLoader(\n",
        "        dataset=train_dataset,\n",
        "        batch_size=batch,\n",
        "        shuffle=True\n",
        "    )\n",
        "\n",
        "valid_loader = torch.utils.data.DataLoader(\n",
        "        dataset=valid_dataset,\n",
        "        batch_size=batch,\n",
        "        shuffle=True\n",
        "    )\n",
        "\n",
        "test_loader = torch.utils.data.DataLoader(\n",
        "        dataset=test_dataset,\n",
        "        batch_size=batch,\n",
        "        shuffle=True\n",
        "    )\n"
      ]
    },
    {
      "cell_type": "code",
      "execution_count": 11,
      "metadata": {
        "colab": {
          "base_uri": "https://localhost:8080/"
        },
        "id": "SlhzS6FfG6UK",
        "outputId": "7a9f4e94-c3ab-4dc0-cd25-7c11902701b5"
      },
      "outputs": [
        {
          "name": "stdout",
          "output_type": "stream",
          "text": [
            "cuda\n",
            "Network architecture for CNN\n",
            " Network(\n",
            "  (conv1): Conv2d(3, 32, kernel_size=(3, 3), stride=(1, 1), padding=(1, 1))\n",
            "  (pool1): MaxPool2d(kernel_size=2, stride=2, padding=0, dilation=1, ceil_mode=False)\n",
            "  (dropout1): Dropout(p=0.2, inplace=False)\n",
            "  (conv2): Conv2d(32, 32, kernel_size=(3, 3), stride=(1, 1), padding=(1, 1))\n",
            "  (pool2): MaxPool2d(kernel_size=2, stride=2, padding=0, dilation=1, ceil_mode=False)\n",
            "  (dropout2): Dropout(p=0.2, inplace=False)\n",
            "  (fc1): Linear(in_features=2048, out_features=128, bias=True)\n",
            "  (dropout3): Dropout(p=0.2, inplace=False)\n",
            "  (fc2): Linear(in_features=128, out_features=10, bias=True)\n",
            ")\n"
          ]
        }
      ],
      "source": [
        "class Network(nn.Module):\n",
        "    def __init__(self):\n",
        "        super(Network, self).__init__()\n",
        "        self.conv1 = nn.Conv2d(3,32,3, padding=1)\n",
        "        self.pool1 = nn.MaxPool2d(2,2)\n",
        "        self.dropout1 = nn.Dropout(0.2)\n",
        "        self.conv2 = nn.Conv2d(32,32,3, padding=1)\n",
        "        self.pool2 = nn.MaxPool2d(2,2)\n",
        "        self.dropout2 = nn.Dropout(0.2)\n",
        "        self.fc1 = nn.Linear(32*8*8, 128)\n",
        "        self.dropout3 = nn.Dropout(0.2)\n",
        "        self.fc2 = nn.Linear(128, 10)\n",
        "\n",
        "\n",
        "    def forward(self, x):\n",
        "        x = self.pool1(F.relu(self.conv1(x)))\n",
        "        x = self.dropout1(x)\n",
        "        x = self.pool2(F.relu(self.conv2(x)))\n",
        "        x = self.dropout2(x)\n",
        "        x = x.view(-1, 32 * 8 * 8)\n",
        "        x = F.relu(self.fc1(x))\n",
        "        x = self.dropout3(x)\n",
        "        x = self.fc2(x)\n",
        "        return x\n",
        "\n",
        "net = Network()\n",
        "device = 'cuda' if torch.cuda.is_available() else 'cpu'\n",
        "print(device)\n",
        "\n",
        "if torch.cuda.is_available():\n",
        "  net.cuda()\n",
        "\n",
        "print('Network architecture for CNN\\n', net)"
      ]
    },
    {
      "cell_type": "code",
      "execution_count": 12,
      "metadata": {
        "id": "OlCfd_HXG6UQ"
      },
      "outputs": [],
      "source": [
        "# optimizing\n",
        "criterion = nn.CrossEntropyLoss()\n",
        "optimizer = optim.SGD(net.parameters(), lr=0.01, momentum=0.9, weight_decay=0.001)\n",
        "#optimizer = optim.AdamW(net.parameters(), lr=0.01, weight_decay=0.001)\n"
      ]
    },
    {
      "cell_type": "code",
      "execution_count": 13,
      "metadata": {
        "id": "8XOoWNm9G6UU"
      },
      "outputs": [],
      "source": [
        "# Define Class names\n",
        "classes = ('plane', 'car', 'bird', 'cat', 'deer',\n",
        "               'dog', 'frog', 'horse', 'ship', 'truck')\n",
        " "
      ]
    },
    {
      "cell_type": "code",
      "execution_count": 14,
      "metadata": {
        "colab": {
          "base_uri": "https://localhost:8080/"
        },
        "id": "QLVSY_raG6UZ",
        "outputId": "bd549934-0cff-46d1-ba39-2c86d71d3d02"
      },
      "outputs": [
        {
          "name": "stdout",
          "output_type": "stream",
          "text": [
            "training start ...\n",
            "Epoch [1/50] train Loss: 0.0119, train acc: 0.4589 | val_loss: 0.0122, val_acc: 0.4434\n",
            "Epoch [2/50] train Loss: 0.0102, train acc: 0.5339 | val_loss: 0.0105, val_acc: 0.5228\n",
            "Epoch [3/50] train Loss: 0.0091, train acc: 0.5927 | val_loss: 0.0096, val_acc: 0.5769\n",
            "Epoch [4/50] train Loss: 0.0083, train acc: 0.6249 | val_loss: 0.0088, val_acc: 0.6052\n",
            "Epoch [5/50] train Loss: 0.0076, train acc: 0.6607 | val_loss: 0.0083, val_acc: 0.6335\n",
            "Epoch [6/50] train Loss: 0.0070, train acc: 0.6942 | val_loss: 0.0077, val_acc: 0.6605\n",
            "Epoch [7/50] train Loss: 0.0068, train acc: 0.6988 | val_loss: 0.0076, val_acc: 0.6603\n",
            "Epoch [8/50] train Loss: 0.0063, train acc: 0.7241 | val_loss: 0.0072, val_acc: 0.6827\n",
            "Epoch [9/50] train Loss: 0.0058, train acc: 0.7478 | val_loss: 0.0069, val_acc: 0.6926\n",
            "Epoch [10/50] train Loss: 0.0056, train acc: 0.7619 | val_loss: 0.0068, val_acc: 0.6992\n",
            "Epoch [11/50] train Loss: 0.0053, train acc: 0.7771 | val_loss: 0.0067, val_acc: 0.7064\n",
            "Epoch [12/50] train Loss: 0.0050, train acc: 0.7902 | val_loss: 0.0066, val_acc: 0.7101\n",
            "Epoch [13/50] train Loss: 0.0048, train acc: 0.7944 | val_loss: 0.0066, val_acc: 0.7094\n",
            "Epoch [14/50] train Loss: 0.0045, train acc: 0.8079 | val_loss: 0.0065, val_acc: 0.7172\n",
            "Epoch [15/50] train Loss: 0.0045, train acc: 0.8106 | val_loss: 0.0065, val_acc: 0.7121\n",
            "Epoch [16/50] train Loss: 0.0042, train acc: 0.8222 | val_loss: 0.0064, val_acc: 0.7177\n",
            "Epoch [17/50] train Loss: 0.0038, train acc: 0.8436 | val_loss: 0.0062, val_acc: 0.7269\n",
            "Epoch [18/50] train Loss: 0.0038, train acc: 0.8407 | val_loss: 0.0062, val_acc: 0.7268\n",
            "Epoch [19/50] train Loss: 0.0037, train acc: 0.8619 | val_loss: 0.0062, val_acc: 0.7304\n",
            "Epoch [20/50] train Loss: 0.0034, train acc: 0.8680 | val_loss: 0.0061, val_acc: 0.7300\n",
            "Epoch [21/50] train Loss: 0.0033, train acc: 0.8710 | val_loss: 0.0062, val_acc: 0.7269\n",
            "Epoch [22/50] train Loss: 0.0033, train acc: 0.8757 | val_loss: 0.0062, val_acc: 0.7285\n",
            "Epoch [23/50] train Loss: 0.0030, train acc: 0.8850 | val_loss: 0.0061, val_acc: 0.7305\n",
            "Epoch [24/50] train Loss: 0.0030, train acc: 0.8899 | val_loss: 0.0061, val_acc: 0.7342\n",
            "Epoch [25/50] train Loss: 0.0028, train acc: 0.8938 | val_loss: 0.0061, val_acc: 0.7299\n",
            "Epoch [26/50] train Loss: 0.0027, train acc: 0.9000 | val_loss: 0.0062, val_acc: 0.7298\n",
            "Epoch [27/50] train Loss: 0.0027, train acc: 0.9108 | val_loss: 0.0060, val_acc: 0.7367\n",
            "Epoch [28/50] train Loss: 0.0027, train acc: 0.9024 | val_loss: 0.0064, val_acc: 0.7255\n",
            "Epoch [29/50] train Loss: 0.0025, train acc: 0.9174 | val_loss: 0.0060, val_acc: 0.7389\n",
            "Epoch [30/50] train Loss: 0.0024, train acc: 0.9185 | val_loss: 0.0060, val_acc: 0.7344\n",
            "Epoch [31/50] train Loss: 0.0024, train acc: 0.9142 | val_loss: 0.0062, val_acc: 0.7311\n",
            "Epoch [32/50] train Loss: 0.0022, train acc: 0.9269 | val_loss: 0.0061, val_acc: 0.7390\n",
            "Epoch [33/50] train Loss: 0.0023, train acc: 0.9217 | val_loss: 0.0063, val_acc: 0.7334\n",
            "Epoch [34/50] train Loss: 0.0022, train acc: 0.9324 | val_loss: 0.0061, val_acc: 0.7362\n",
            "Epoch [35/50] train Loss: 0.0020, train acc: 0.9371 | val_loss: 0.0060, val_acc: 0.7376\n",
            "Epoch [36/50] train Loss: 0.0020, train acc: 0.9339 | val_loss: 0.0062, val_acc: 0.7335\n",
            "Epoch [37/50] train Loss: 0.0020, train acc: 0.9366 | val_loss: 0.0062, val_acc: 0.7345\n",
            "Epoch [38/50] train Loss: 0.0019, train acc: 0.9403 | val_loss: 0.0062, val_acc: 0.7335\n",
            "Epoch [39/50] train Loss: 0.0020, train acc: 0.9407 | val_loss: 0.0063, val_acc: 0.7296\n",
            "Epoch [40/50] train Loss: 0.0020, train acc: 0.9407 | val_loss: 0.0063, val_acc: 0.7322\n",
            "Epoch [41/50] train Loss: 0.0018, train acc: 0.9481 | val_loss: 0.0062, val_acc: 0.7360\n",
            "Epoch [42/50] train Loss: 0.0018, train acc: 0.9411 | val_loss: 0.0064, val_acc: 0.7320\n",
            "Epoch [43/50] train Loss: 0.0017, train acc: 0.9520 | val_loss: 0.0061, val_acc: 0.7354\n",
            "Epoch [44/50] train Loss: 0.0016, train acc: 0.9507 | val_loss: 0.0062, val_acc: 0.7347\n",
            "Epoch [45/50] train Loss: 0.0016, train acc: 0.9587 | val_loss: 0.0061, val_acc: 0.7379\n",
            "Epoch [46/50] train Loss: 0.0016, train acc: 0.9594 | val_loss: 0.0062, val_acc: 0.7371\n",
            "Epoch [47/50] train Loss: 0.0016, train acc: 0.9572 | val_loss: 0.0062, val_acc: 0.7328\n",
            "Epoch [48/50] train Loss: 0.0016, train acc: 0.9563 | val_loss: 0.0061, val_acc: 0.7346\n",
            "Epoch [49/50] train Loss: 0.0016, train acc: 0.9583 | val_loss: 0.0061, val_acc: 0.7384\n",
            "Epoch [50/50] train Loss: 0.0015, train acc: 0.9609 | val_loss: 0.0061, val_acc: 0.7398\n"
          ]
        }
      ],
      "source": [
        "###  training\n",
        "print ('training start ...')\n",
        "num_epochs = 50   \n",
        "\n",
        "# initialize list for plot graph after training\n",
        "train_loss_list, train_acc_list, val_loss_list, val_acc_list = [], [], [], []\n",
        "\n",
        "for epoch in range(num_epochs):\n",
        "    # initialize each epoch\n",
        "    train_loss, train_acc, val_loss, val_acc = 0, 0, 0, 0\n",
        "    \n",
        "    # ======== train_mode (Backprop) ======\n",
        "    net.train()\n",
        "    for i, (images, labels) in enumerate(train_loader):  # get mini batch samples\n",
        "        #viewで28×28×１画像を１次元に変換し、deviceへ転送\n",
        "#        images, labels = images.view(-1, 28*28*1).to(device), labels.to(device)\n",
        "        images, labels = images.to(device), labels.to(device)\n",
        "        optimizer.zero_grad()  # Reset the gradients\n",
        "        outputs = net(images)  # forward computation\n",
        "        loss = criterion(outputs, labels)  # loss\n",
        "        loss.backward()  # backward computation        \n",
        "        optimizer.step()  # optimization\n",
        "    \n",
        "    # ======== eval_mode (training samples) ======\n",
        "    net.eval()\n",
        "    with torch.no_grad():  # no computation of gradients\n",
        "      for images, labels in train_loader:        \n",
        "#          images, labels = images.view(-1, 28*28*1).to(device), labels.to(device)\n",
        "          images, labels = images.to(device), labels.to(device)\n",
        "          outputs = net(images)\n",
        "          loss = criterion(outputs, labels)\n",
        "          train_loss += loss.item()\n",
        "          acc = (outputs.max(1)[1] == labels).sum()\n",
        "          train_acc += acc.item()\n",
        "    avg_train_loss = train_loss / len(train_loader.dataset)\n",
        "    avg_train_acc = train_acc / len(train_loader.dataset)\n",
        "\n",
        "    # ======== eval_mode (validation samples) ======\n",
        "    net.eval()\n",
        "    with torch.no_grad():  # no comptutation of gradients\n",
        "      for images, labels in valid_loader:        \n",
        "#          images, labels = images.view(-1, 28*28*1).to(device), labels.to(device)\n",
        "          images, labels = images.to(device), labels.to(device)\n",
        "          outputs = net(images)\n",
        "          loss = criterion(outputs, labels)\n",
        "          val_loss += loss.item()\n",
        "          acc = (outputs.max(1)[1] == labels).sum()\n",
        "          val_acc += acc.item()\n",
        "    avg_val_loss = val_loss / len(valid_loader.dataset)\n",
        "    avg_val_acc = val_acc / len(valid_loader.dataset)\n",
        "    \n",
        "    # print log\n",
        "    print ('Epoch [{}/{}] train Loss: {loss:.4f}, train acc: {acc:.4f} | val_loss: {val_loss:.4f}, val_acc: {val_acc:.4f}' \n",
        "                   .format(epoch+1, num_epochs, i+1, loss=avg_train_loss, acc=avg_train_acc, val_loss=avg_val_loss, val_acc=avg_val_acc))\n",
        "\n",
        "    # append list for polt graph after training\n",
        "    train_loss_list.append(avg_train_loss)\n",
        "    train_acc_list.append(avg_train_acc)\n",
        "    val_loss_list.append(avg_val_loss)\n",
        "    val_acc_list.append(avg_val_acc)\n"
      ]
    },
    {
      "cell_type": "code",
      "execution_count": 15,
      "metadata": {
        "colab": {
          "base_uri": "https://localhost:8080/"
        },
        "id": "lcVFP0RKG6Uf",
        "outputId": "54cb0a6c-ea1c-481d-be88-22afb78ea3db"
      },
      "outputs": [
        {
          "name": "stdout",
          "output_type": "stream",
          "text": [
            "test_accuracy: 74.37 %\n"
          ]
        }
      ],
      "source": [
        "# ======== eval_mode (test samples) ======\n",
        "net.eval()\n",
        "with torch.no_grad():\n",
        "    total = 0\n",
        "    test_acc = 0\n",
        "    for images, labels in test_loader:        \n",
        "#        images, labels = images.view(-1, 28 * 28 * 1 ).to(device), labels.to(device)\n",
        "        images, labels = images.to(device), labels.to(device)\n",
        "        outputs = net(images)\n",
        "        test_acc += (outputs.max(1)[1] == labels).sum().item()\n",
        "        total += labels.size(0)\n",
        "    print('test_accuracy: {} %'.format(100 * test_acc / total)) \n",
        "\n",
        "# save weights (You can save the model by uncomment the following line)\n",
        "#torch.save(net.state_dict(), 'mnist_net.ckpt')\n"
      ]
    },
    {
      "cell_type": "code",
      "execution_count": 16,
      "metadata": {
        "colab": {
          "base_uri": "https://localhost:8080/",
          "height": 573
        },
        "id": "tEEIBGsJG6Uk",
        "outputId": "200c3fba-b6e7-4fd5-a17a-82e4fb042a3c"
      },
      "outputs": [
        {
          "data": {
            "image/png": "[encoded data removed]",
            "text/plain": [
              "<Figure size 432x288 with 1 Axes>"
            ]
          },
          "metadata": {
            "needs_background": "light"
          },
          "output_type": "display_data"
        },
        {
          "data": {
            "image/png": "[encoded data removed]",
            "text/plain": [
              "<Figure size 432x288 with 1 Axes>"
            ]
          },
          "metadata": {
            "needs_background": "light"
          },
          "output_type": "display_data"
        }
      ],
      "source": [
        "# plot graph\n",
        "import matplotlib.pyplot as plt\n",
        "\n",
        "plt.figure()\n",
        "plt.plot(range(num_epochs), train_loss_list, color='blue', linestyle='-', label='train_loss')\n",
        "plt.plot(range(num_epochs), val_loss_list, color='green', linestyle='--', label='val_loss')\n",
        "plt.ylim([0.0,0.02])\n",
        "plt.legend()\n",
        "plt.xlabel('epoch')\n",
        "plt.ylabel('loss')\n",
        "plt.title('Training and validation loss')\n",
        "plt.grid()\n",
        "plt.savefig('CNN_cifar10_loss.png')\n",
        "plt.show()\n",
        "\n",
        "plt.figure()\n",
        "plt.plot(range(num_epochs), train_acc_list, color='blue', linestyle='-', label='train_acc')\n",
        "plt.plot(range(num_epochs), val_acc_list, color='green', linestyle='--', label='val_acc')\n",
        "plt.ylim([0.5, 1.0])\n",
        "plt.legend()\n",
        "plt.xlabel('epoch')\n",
        "plt.ylabel('acc')\n",
        "plt.title('Training and validation accuracy')\n",
        "plt.grid()\n",
        "plt.savefig('CNN_cifar10_acc.png')\n",
        "plt.show()"
      ]
    },
    {
      "cell_type": "code",
      "execution_count": null,
      "metadata": {
        "id": "g1jdTzc0G6Up"
      },
      "outputs": [],
      "source": []
    }
  ],
  "metadata": {
    "accelerator": "GPU",
    "colab": {
      "include_colab_link": true,
      "name": "CNN_cifar10.ipynb",
      "provenance": []
    },
    "kernelspec": {
      "display_name": "Python 3.9.12 ('base')",
      "language": "python",
      "name": "python3"
    },
    "language_info": {
      "codemirror_mode": {
        "name": "ipython",
        "version": 3
      },
      "file_extension": ".py",
      "mimetype": "text/x-python",
      "name": "python",
      "nbconvert_exporter": "python",
      "pygments_lexer": "ipython3",
      "version": "3.9.12"
    },
    "vscode": {
      "interpreter": {
        "hash": "99f8564f89c7a572d733cb01d087a2df76f81fcc1b747f1674f8ba70f4bc2ce3"
      }
    },
    "widgets": {
      "application/vnd.jupyter.widget-state+json": {
        "232f0559d16d40a1b805a6216a18eb6c": {
          "model_module": "@jupyter-widgets/base",
          "model_module_version": "1.2.0",
          "model_name": "LayoutModel",
          "state": {
            "_model_module": "@jupyter-widgets/base",
            "_model_module_version": "1.2.0",
            "_model_name": "LayoutModel",
            "_view_count": null,
            "_view_module": "@jupyter-widgets/base",
            "_view_module_version": "1.2.0",
            "_view_name": "LayoutView",
            "align_content": null,
            "align_items": null,
            "align_self": null,
            "border": null,
            "bottom": null,
            "display": null,
            "flex": null,
            "flex_flow": null,
            "grid_area": null,
            "grid_auto_columns": null,
            "grid_auto_flow": null,
            "grid_auto_rows": null,
            "grid_column": null,
            "grid_gap": null,
            "grid_row": null,
            "grid_template_areas": null,
            "grid_template_columns": null,
            "grid_template_rows": null,
            "height": null,
            "justify_content": null,
            "justify_items": null,
            "left": null,
            "margin": null,
            "max_height": null,
            "max_width": null,
            "min_height": null,
            "min_width": null,
            "object_fit": null,
            "object_position": null,
            "order": null,
            "overflow": null,
            "overflow_x": null,
            "overflow_y": null,
            "padding": null,
            "right": null,
            "top": null,
            "visibility": null,
            "width": null
          }
        },
        "2c0f7e0e201d444aac41ebd68ee0e2cb": {
          "model_module": "@jupyter-widgets/controls",
          "model_module_version": "1.5.0",
          "model_name": "HBoxModel",
          "state": {
            "_dom_classes": [],
            "_model_module": "@jupyter-widgets/controls",
            "_model_module_version": "1.5.0",
            "_model_name": "HBoxModel",
            "_view_count": null,
            "_view_module": "@jupyter-widgets/controls",
            "_view_module_version": "1.5.0",
            "_view_name": "HBoxView",
            "box_style": "",
            "children": [
              "IPY_MODEL_af93e12f4a124ad1b3c1095677a651a8",
              "IPY_MODEL_4084eec479e049e5a67214442a6d37d1",
              "IPY_MODEL_6e2da28806bf4f05b0acbec8f33614cc"
            ],
            "layout": "IPY_MODEL_745dd00c4040462db02630b436ce7bce"
          }
        },
        "37d6650a7b0c43cf8fac30222a89802c": {
          "model_module": "@jupyter-widgets/controls",
          "model_module_version": "1.5.0",
          "model_name": "ProgressStyleModel",
          "state": {
            "_model_module": "@jupyter-widgets/controls",
            "_model_module_version": "1.5.0",
            "_model_name": "ProgressStyleModel",
            "_view_count": null,
            "_view_module": "@jupyter-widgets/base",
            "_view_module_version": "1.2.0",
            "_view_name": "StyleView",
            "bar_color": null,
            "description_width": ""
          }
        },
        "3d2f2ccfc1d6487b9b6e15653d103ffa": {
          "model_module": "@jupyter-widgets/controls",
          "model_module_version": "1.5.0",
          "model_name": "DescriptionStyleModel",
          "state": {
            "_model_module": "@jupyter-widgets/controls",
            "_model_module_version": "1.5.0",
            "_model_name": "DescriptionStyleModel",
            "_view_count": null,
            "_view_module": "@jupyter-widgets/base",
            "_view_module_version": "1.2.0",
            "_view_name": "StyleView",
            "description_width": ""
          }
        },
        "4084eec479e049e5a67214442a6d37d1": {
          "model_module": "@jupyter-widgets/controls",
          "model_module_version": "1.5.0",
          "model_name": "FloatProgressModel",
          "state": {
            "_dom_classes": [],
            "_model_module": "@jupyter-widgets/controls",
            "_model_module_version": "1.5.0",
            "_model_name": "FloatProgressModel",
            "_view_count": null,
            "_view_module": "@jupyter-widgets/controls",
            "_view_module_version": "1.5.0",
            "_view_name": "ProgressView",
            "bar_style": "success",
            "description": "",
            "description_tooltip": null,
            "layout": "IPY_MODEL_56ba71e8eec6433fb511de549908b32b",
            "max": 170498071,
            "min": 0,
            "orientation": "horizontal",
            "style": "IPY_MODEL_37d6650a7b0c43cf8fac30222a89802c",
            "value": 170498071
          }
        },
        "56ba71e8eec6433fb511de549908b32b": {
          "model_module": "@jupyter-widgets/base",
          "model_module_version": "1.2.0",
          "model_name": "LayoutModel",
          "state": {
            "_model_module": "@jupyter-widgets/base",
            "_model_module_version": "1.2.0",
            "_model_name": "LayoutModel",
            "_view_count": null,
            "_view_module": "@jupyter-widgets/base",
            "_view_module_version": "1.2.0",
            "_view_name": "LayoutView",
            "align_content": null,
            "align_items": null,
            "align_self": null,
            "border": null,
            "bottom": null,
            "display": null,
            "flex": null,
            "flex_flow": null,
            "grid_area": null,
            "grid_auto_columns": null,
            "grid_auto_flow": null,
            "grid_auto_rows": null,
            "grid_column": null,
            "grid_gap": null,
            "grid_row": null,
            "grid_template_areas": null,
            "grid_template_columns": null,
            "grid_template_rows": null,
            "height": null,
            "justify_content": null,
            "justify_items": null,
            "left": null,
            "margin": null,
            "max_height": null,
            "max_width": null,
            "min_height": null,
            "min_width": null,
            "object_fit": null,
            "object_position": null,
            "order": null,
            "overflow": null,
            "overflow_x": null,
            "overflow_y": null,
            "padding": null,
            "right": null,
            "top": null,
            "visibility": null,
            "width": null
          }
        },
        "6e2da28806bf4f05b0acbec8f33614cc": {
          "model_module": "@jupyter-widgets/controls",
          "model_module_version": "1.5.0",
          "model_name": "HTMLModel",
          "state": {
            "_dom_classes": [],
            "_model_module": "@jupyter-widgets/controls",
            "_model_module_version": "1.5.0",
            "_model_name": "HTMLModel",
            "_view_count": null,
            "_view_module": "@jupyter-widgets/controls",
            "_view_module_version": "1.5.0",
            "_view_name": "HTMLView",
            "description": "",
            "description_tooltip": null,
            "layout": "IPY_MODEL_87033cf3a22141248a404d5de62b99e6",
            "placeholder": "​",
            "style": "IPY_MODEL_cf81fd20ab3d4339841c9eb9fbe86470",
            "value": " 170499072/? [00:03&lt;00:00, 55538840.65it/s]"
          }
        },
        "745dd00c4040462db02630b436ce7bce": {
          "model_module": "@jupyter-widgets/base",
          "model_module_version": "1.2.0",
          "model_name": "LayoutModel",
          "state": {
            "_model_module": "@jupyter-widgets/base",
            "_model_module_version": "1.2.0",
            "_model_name": "LayoutModel",
            "_view_count": null,
            "_view_module": "@jupyter-widgets/base",
            "_view_module_version": "1.2.0",
            "_view_name": "LayoutView",
            "align_content": null,
            "align_items": null,
            "align_self": null,
            "border": null,
            "bottom": null,
            "display": null,
            "flex": null,
            "flex_flow": null,
            "grid_area": null,
            "grid_auto_columns": null,
            "grid_auto_flow": null,
            "grid_auto_rows": null,
            "grid_column": null,
            "grid_gap": null,
            "grid_row": null,
            "grid_template_areas": null,
            "grid_template_columns": null,
            "grid_template_rows": null,
            "height": null,
            "justify_content": null,
            "justify_items": null,
            "left": null,
            "margin": null,
            "max_height": null,
            "max_width": null,
            "min_height": null,
            "min_width": null,
            "object_fit": null,
            "object_position": null,
            "order": null,
            "overflow": null,
            "overflow_x": null,
            "overflow_y": null,
            "padding": null,
            "right": null,
            "top": null,
            "visibility": null,
            "width": null
          }
        },
        "87033cf3a22141248a404d5de62b99e6": {
          "model_module": "@jupyter-widgets/base",
          "model_module_version": "1.2.0",
          "model_name": "LayoutModel",
          "state": {
            "_model_module": "@jupyter-widgets/base",
            "_model_module_version": "1.2.0",
            "_model_name": "LayoutModel",
            "_view_count": null,
            "_view_module": "@jupyter-widgets/base",
            "_view_module_version": "1.2.0",
            "_view_name": "LayoutView",
            "align_content": null,
            "align_items": null,
            "align_self": null,
            "border": null,
            "bottom": null,
            "display": null,
            "flex": null,
            "flex_flow": null,
            "grid_area": null,
            "grid_auto_columns": null,
            "grid_auto_flow": null,
            "grid_auto_rows": null,
            "grid_column": null,
            "grid_gap": null,
            "grid_row": null,
            "grid_template_areas": null,
            "grid_template_columns": null,
            "grid_template_rows": null,
            "height": null,
            "justify_content": null,
            "justify_items": null,
            "left": null,
            "margin": null,
            "max_height": null,
            "max_width": null,
            "min_height": null,
            "min_width": null,
            "object_fit": null,
            "object_position": null,
            "order": null,
            "overflow": null,
            "overflow_x": null,
            "overflow_y": null,
            "padding": null,
            "right": null,
            "top": null,
            "visibility": null,
            "width": null
          }
        },
        "af93e12f4a124ad1b3c1095677a651a8": {
          "model_module": "@jupyter-widgets/controls",
          "model_module_version": "1.5.0",
          "model_name": "HTMLModel",
          "state": {
            "_dom_classes": [],
            "_model_module": "@jupyter-widgets/controls",
            "_model_module_version": "1.5.0",
            "_model_name": "HTMLModel",
            "_view_count": null,
            "_view_module": "@jupyter-widgets/controls",
            "_view_module_version": "1.5.0",
            "_view_name": "HTMLView",
            "description": "",
            "description_tooltip": null,
            "layout": "IPY_MODEL_232f0559d16d40a1b805a6216a18eb6c",
            "placeholder": "​",
            "style": "IPY_MODEL_3d2f2ccfc1d6487b9b6e15653d103ffa",
            "value": ""
          }
        },
        "cf81fd20ab3d4339841c9eb9fbe86470": {
          "model_module": "@jupyter-widgets/controls",
          "model_module_version": "1.5.0",
          "model_name": "DescriptionStyleModel",
          "state": {
            "_model_module": "@jupyter-widgets/controls",
            "_model_module_version": "1.5.0",
            "_model_name": "DescriptionStyleModel",
            "_view_count": null,
            "_view_module": "@jupyter-widgets/base",
            "_view_module_version": "1.2.0",
            "_view_name": "StyleView",
            "description_width": ""
          }
        }
      }
    }
  },
  "nbformat": 4,
  "nbformat_minor": 0
}
